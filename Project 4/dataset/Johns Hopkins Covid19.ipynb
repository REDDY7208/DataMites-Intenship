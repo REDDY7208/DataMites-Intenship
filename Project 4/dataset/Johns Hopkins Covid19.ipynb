{
 "cells": [
  {
   "cell_type": "markdown",
   "id": "22e7f4c2",
   "metadata": {},
   "source": [
    "## PROJECT TEAM ID :PTID-CDS-JUN-23-1538"
   ]
  },
  {
   "cell_type": "markdown",
   "id": "62a46ca4",
   "metadata": {},
   "source": [
    "## Project: PRCP-1023-JohnsHopkinsCovid19"
   ]
  },
  {
   "cell_type": "markdown",
   "id": "53d016c7",
   "metadata": {},
   "source": [
    "## Project Members:"
   ]
  },
  {
   "cell_type": "raw",
   "id": "88c6d590",
   "metadata": {},
   "source": [
    "1.Noor Mahammad\n",
    "2.Srinivas Reddy\n",
    "3.Praveenkumareddy Undela"
   ]
  },
  {
   "cell_type": "markdown",
   "id": "f18f3a46",
   "metadata": {},
   "source": [
    "## Problem Statement"
   ]
  },
  {
   "cell_type": "markdown",
   "id": "86ae6e52",
   "metadata": {},
   "source": [
    " Living with the virus may be the new normal , but analysing the trends of spread of coronavirus and it's contagiousness can help mitigate its effects . Analysis and visualization of virus spread data can reveal meaningful trends for various geographical locations . Moreover , statistical and ML modelling of everyday cases and deaths can provide useful insights into the future severity of the viral disease ."
   ]
  },
  {
   "cell_type": "markdown",
   "id": "e24c6a44",
   "metadata": {},
   "source": [
    "## Exploratary Time - Series Data Analysis and Visualization"
   ]
  },
  {
   "cell_type": "markdown",
   "id": "d453c893",
   "metadata": {},
   "source": [
    "So , let us first import the latest COVID - 19 data so we have more data and features to work with ."
   ]
  },
  {
   "cell_type": "markdown",
   "id": "594a561b",
   "metadata": {},
   "source": [
    "## Importing Libraries"
   ]
  },
  {
   "cell_type": "code",
   "execution_count": 1,
   "id": "772e1b57",
   "metadata": {},
   "outputs": [],
   "source": [
    "import pandas as pd\n",
    "import matplotlib.pyplot as plt\n",
    "import numpy as np\n",
    "import warnings\n",
    "warnings.filterwarnings(\"ignore\")"
   ]
  },
  {
   "cell_type": "markdown",
   "id": "4f2f605f",
   "metadata": {},
   "source": [
    "## Loading a data"
   ]
  },
  {
   "cell_type": "code",
   "execution_count": 2,
   "id": "99309f7c",
   "metadata": {},
   "outputs": [],
   "source": [
    "Confirmed = pd.read_csv(\"time_series_covid19_confirmed_global.csv\")\n",
    "Deaths = pd.read_csv(\"time_series_covid19_deaths_global.csv\")\n",
    "Recovered = pd.read_csv(\"time_series_covid19_recovered_global.csv\")"
   ]
  },
  {
   "cell_type": "code",
   "execution_count": 3,
   "id": "ba873af8",
   "metadata": {},
   "outputs": [
    {
     "data": {
      "text/html": [
       "<div>\n",
       "<style scoped>\n",
       "    .dataframe tbody tr th:only-of-type {\n",
       "        vertical-align: middle;\n",
       "    }\n",
       "\n",
       "    .dataframe tbody tr th {\n",
       "        vertical-align: top;\n",
       "    }\n",
       "\n",
       "    .dataframe thead th {\n",
       "        text-align: right;\n",
       "    }\n",
       "</style>\n",
       "<table border=\"1\" class=\"dataframe\">\n",
       "  <thead>\n",
       "    <tr style=\"text-align: right;\">\n",
       "      <th></th>\n",
       "      <th>Province/State</th>\n",
       "      <th>Country/Region</th>\n",
       "      <th>Lat</th>\n",
       "      <th>Long</th>\n",
       "      <th>1/22/20</th>\n",
       "      <th>1/23/20</th>\n",
       "      <th>1/24/20</th>\n",
       "      <th>1/25/20</th>\n",
       "      <th>1/26/20</th>\n",
       "      <th>1/27/20</th>\n",
       "      <th>...</th>\n",
       "      <th>9/12/20</th>\n",
       "      <th>9/13/20</th>\n",
       "      <th>9/14/20</th>\n",
       "      <th>9/15/20</th>\n",
       "      <th>9/16/20</th>\n",
       "      <th>9/17/20</th>\n",
       "      <th>9/18/20</th>\n",
       "      <th>9/19/20</th>\n",
       "      <th>9/20/20</th>\n",
       "      <th>9/21/20</th>\n",
       "    </tr>\n",
       "  </thead>\n",
       "  <tbody>\n",
       "    <tr>\n",
       "      <th>0</th>\n",
       "      <td>NaN</td>\n",
       "      <td>Afghanistan</td>\n",
       "      <td>33.93911</td>\n",
       "      <td>67.709953</td>\n",
       "      <td>0</td>\n",
       "      <td>0</td>\n",
       "      <td>0</td>\n",
       "      <td>0</td>\n",
       "      <td>0</td>\n",
       "      <td>0</td>\n",
       "      <td>...</td>\n",
       "      <td>38641</td>\n",
       "      <td>38716</td>\n",
       "      <td>38772</td>\n",
       "      <td>38815</td>\n",
       "      <td>38855</td>\n",
       "      <td>38872</td>\n",
       "      <td>38883</td>\n",
       "      <td>38919</td>\n",
       "      <td>39044</td>\n",
       "      <td>39074</td>\n",
       "    </tr>\n",
       "    <tr>\n",
       "      <th>1</th>\n",
       "      <td>NaN</td>\n",
       "      <td>Albania</td>\n",
       "      <td>41.15330</td>\n",
       "      <td>20.168300</td>\n",
       "      <td>0</td>\n",
       "      <td>0</td>\n",
       "      <td>0</td>\n",
       "      <td>0</td>\n",
       "      <td>0</td>\n",
       "      <td>0</td>\n",
       "      <td>...</td>\n",
       "      <td>11185</td>\n",
       "      <td>11353</td>\n",
       "      <td>11520</td>\n",
       "      <td>11672</td>\n",
       "      <td>11816</td>\n",
       "      <td>11948</td>\n",
       "      <td>12073</td>\n",
       "      <td>12226</td>\n",
       "      <td>12385</td>\n",
       "      <td>12535</td>\n",
       "    </tr>\n",
       "    <tr>\n",
       "      <th>2</th>\n",
       "      <td>NaN</td>\n",
       "      <td>Algeria</td>\n",
       "      <td>28.03390</td>\n",
       "      <td>1.659600</td>\n",
       "      <td>0</td>\n",
       "      <td>0</td>\n",
       "      <td>0</td>\n",
       "      <td>0</td>\n",
       "      <td>0</td>\n",
       "      <td>0</td>\n",
       "      <td>...</td>\n",
       "      <td>48007</td>\n",
       "      <td>48254</td>\n",
       "      <td>48496</td>\n",
       "      <td>48734</td>\n",
       "      <td>48966</td>\n",
       "      <td>49194</td>\n",
       "      <td>49413</td>\n",
       "      <td>49623</td>\n",
       "      <td>49826</td>\n",
       "      <td>50023</td>\n",
       "    </tr>\n",
       "    <tr>\n",
       "      <th>3</th>\n",
       "      <td>NaN</td>\n",
       "      <td>Andorra</td>\n",
       "      <td>42.50630</td>\n",
       "      <td>1.521800</td>\n",
       "      <td>0</td>\n",
       "      <td>0</td>\n",
       "      <td>0</td>\n",
       "      <td>0</td>\n",
       "      <td>0</td>\n",
       "      <td>0</td>\n",
       "      <td>...</td>\n",
       "      <td>1344</td>\n",
       "      <td>1344</td>\n",
       "      <td>1438</td>\n",
       "      <td>1438</td>\n",
       "      <td>1483</td>\n",
       "      <td>1483</td>\n",
       "      <td>1564</td>\n",
       "      <td>1564</td>\n",
       "      <td>1564</td>\n",
       "      <td>1681</td>\n",
       "    </tr>\n",
       "    <tr>\n",
       "      <th>4</th>\n",
       "      <td>NaN</td>\n",
       "      <td>Angola</td>\n",
       "      <td>-11.20270</td>\n",
       "      <td>17.873900</td>\n",
       "      <td>0</td>\n",
       "      <td>0</td>\n",
       "      <td>0</td>\n",
       "      <td>0</td>\n",
       "      <td>0</td>\n",
       "      <td>0</td>\n",
       "      <td>...</td>\n",
       "      <td>3335</td>\n",
       "      <td>3388</td>\n",
       "      <td>3439</td>\n",
       "      <td>3569</td>\n",
       "      <td>3675</td>\n",
       "      <td>3789</td>\n",
       "      <td>3848</td>\n",
       "      <td>3901</td>\n",
       "      <td>3991</td>\n",
       "      <td>4117</td>\n",
       "    </tr>\n",
       "  </tbody>\n",
       "</table>\n",
       "<p>5 rows × 248 columns</p>\n",
       "</div>"
      ],
      "text/plain": [
       "  Province/State Country/Region       Lat       Long  1/22/20  1/23/20  \\\n",
       "0            NaN    Afghanistan  33.93911  67.709953        0        0   \n",
       "1            NaN        Albania  41.15330  20.168300        0        0   \n",
       "2            NaN        Algeria  28.03390   1.659600        0        0   \n",
       "3            NaN        Andorra  42.50630   1.521800        0        0   \n",
       "4            NaN         Angola -11.20270  17.873900        0        0   \n",
       "\n",
       "   1/24/20  1/25/20  1/26/20  1/27/20  ...  9/12/20  9/13/20  9/14/20  \\\n",
       "0        0        0        0        0  ...    38641    38716    38772   \n",
       "1        0        0        0        0  ...    11185    11353    11520   \n",
       "2        0        0        0        0  ...    48007    48254    48496   \n",
       "3        0        0        0        0  ...     1344     1344     1438   \n",
       "4        0        0        0        0  ...     3335     3388     3439   \n",
       "\n",
       "   9/15/20  9/16/20  9/17/20  9/18/20  9/19/20  9/20/20  9/21/20  \n",
       "0    38815    38855    38872    38883    38919    39044    39074  \n",
       "1    11672    11816    11948    12073    12226    12385    12535  \n",
       "2    48734    48966    49194    49413    49623    49826    50023  \n",
       "3     1438     1483     1483     1564     1564     1564     1681  \n",
       "4     3569     3675     3789     3848     3901     3991     4117  \n",
       "\n",
       "[5 rows x 248 columns]"
      ]
     },
     "execution_count": 3,
     "metadata": {},
     "output_type": "execute_result"
    }
   ],
   "source": [
    "Confirmed.head()"
   ]
  },
  {
   "cell_type": "markdown",
   "id": "bc3cf782",
   "metadata": {},
   "source": [
    "## Basic Check"
   ]
  },
  {
   "cell_type": "code",
   "execution_count": 4,
   "id": "0ac9d544",
   "metadata": {},
   "outputs": [
    {
     "name": "stdout",
     "output_type": "stream",
     "text": [
      "  Province/State Country/Region       Lat       Long  1/22/20  1/23/20  \\\n",
      "0            NaN    Afghanistan  33.93911  67.709953        0        0   \n",
      "1            NaN        Albania  41.15330  20.168300        0        0   \n",
      "2            NaN        Algeria  28.03390   1.659600        0        0   \n",
      "3            NaN        Andorra  42.50630   1.521800        0        0   \n",
      "4            NaN         Angola -11.20270  17.873900        0        0   \n",
      "\n",
      "   1/24/20  1/25/20  1/26/20  1/27/20  ...  9/12/20  9/13/20  9/14/20  \\\n",
      "0        0        0        0        0  ...    38641    38716    38772   \n",
      "1        0        0        0        0  ...    11185    11353    11520   \n",
      "2        0        0        0        0  ...    48007    48254    48496   \n",
      "3        0        0        0        0  ...     1344     1344     1438   \n",
      "4        0        0        0        0  ...     3335     3388     3439   \n",
      "\n",
      "   9/15/20  9/16/20  9/17/20  9/18/20  9/19/20  9/20/20  9/21/20  \n",
      "0    38815    38855    38872    38883    38919    39044    39074  \n",
      "1    11672    11816    11948    12073    12226    12385    12535  \n",
      "2    48734    48966    49194    49413    49623    49826    50023  \n",
      "3     1438     1483     1483     1564     1564     1564     1681  \n",
      "4     3569     3675     3789     3848     3901     3991     4117  \n",
      "\n",
      "[5 rows x 248 columns]\n",
      "  Province/State Country/Region       Lat       Long  1/22/20  1/23/20  \\\n",
      "0            NaN    Afghanistan  33.93911  67.709953        0        0   \n",
      "1            NaN        Albania  41.15330  20.168300        0        0   \n",
      "2            NaN        Algeria  28.03390   1.659600        0        0   \n",
      "3            NaN        Andorra  42.50630   1.521800        0        0   \n",
      "4            NaN         Angola -11.20270  17.873900        0        0   \n",
      "\n",
      "   1/24/20  1/25/20  1/26/20  1/27/20  ...  9/12/20  9/13/20  9/14/20  \\\n",
      "0        0        0        0        0  ...     1420     1420     1425   \n",
      "1        0        0        0        0  ...      330      334      338   \n",
      "2        0        0        0        0  ...     1605     1612     1620   \n",
      "3        0        0        0        0  ...       53       53       53   \n",
      "4        0        0        0        0  ...      132      134      136   \n",
      "\n",
      "   9/15/20  9/16/20  9/17/20  9/18/20  9/19/20  9/20/20  9/21/20  \n",
      "0     1426     1436     1436     1437     1437     1441     1444  \n",
      "1      340      343      347      353      358      362      364  \n",
      "2     1632     1645     1654     1659     1665     1672     1679  \n",
      "3       53       53       53       53       53       53       53  \n",
      "4      139      143      144      147      147      152      154  \n",
      "\n",
      "[5 rows x 248 columns]\n",
      "  Province/State Country/Region       Lat       Long  1/22/20  1/23/20  \\\n",
      "0            NaN    Afghanistan  33.93911  67.709953        0        0   \n",
      "1            NaN        Albania  41.15330  20.168300        0        0   \n",
      "2            NaN        Algeria  28.03390   1.659600        0        0   \n",
      "3            NaN        Andorra  42.50630   1.521800        0        0   \n",
      "4            NaN         Angola -11.20270  17.873900        0        0   \n",
      "\n",
      "   1/24/20  1/25/20  1/26/20  1/27/20  ...  9/12/20  9/13/20  9/14/20  \\\n",
      "0        0        0        0        0  ...    31234    31638    32073   \n",
      "1        0        0        0        0  ...     6494     6569     6615   \n",
      "2        0        0        0        0  ...    33875    34037    34204   \n",
      "3        0        0        0        0  ...      943      943      945   \n",
      "4        0        0        0        0  ...     1289     1301     1324   \n",
      "\n",
      "   9/15/20  9/16/20  9/17/20  9/18/20  9/19/20  9/20/20  9/21/20  \n",
      "0    32098    32503    32505    32576    32576    32576    32576  \n",
      "1     6668     6733     6788     6831     6888     6940     6995  \n",
      "2    34385    34517    34675    34818    34923    35047    35180  \n",
      "3      945     1054     1054     1164     1164     1164     1199  \n",
      "4     1332     1401     1405     1443     1445     1445     1449  \n",
      "\n",
      "[5 rows x 248 columns]\n"
     ]
    }
   ],
   "source": [
    "print(Confirmed.head(5))\n",
    "print(Deaths.head(5))\n",
    "print(Recovered.head(5))"
   ]
  },
  {
   "cell_type": "code",
   "execution_count": 5,
   "id": "ad378d09",
   "metadata": {},
   "outputs": [
    {
     "name": "stdout",
     "output_type": "stream",
     "text": [
      "    Province/State      Country/Region        Lat       Long  1/22/20  \\\n",
      "261            NaN  West Bank and Gaza  31.952200  35.233200        0   \n",
      "262            NaN      Western Sahara  24.215500 -12.885800        0   \n",
      "263            NaN               Yemen  15.552727  48.516388        0   \n",
      "264            NaN              Zambia -13.133897  27.849332        0   \n",
      "265            NaN            Zimbabwe -19.015438  29.154857        0   \n",
      "\n",
      "     1/23/20  1/24/20  1/25/20  1/26/20  1/27/20  ...  9/12/20  9/13/20  \\\n",
      "261        0        0        0        0        0  ...    29906    30574   \n",
      "262        0        0        0        0        0  ...       10       10   \n",
      "263        0        0        0        0        0  ...     2009     2011   \n",
      "264        0        0        0        0        0  ...    13466    13539   \n",
      "265        0        0        0        0        0  ...     7508     7526   \n",
      "\n",
      "     9/14/20  9/15/20  9/16/20  9/17/20  9/18/20  9/19/20  9/20/20  9/21/20  \n",
      "261    31362    32250    33006    33843    34401    35003    35686    36151  \n",
      "262       10       10       10       10       10       10       10       10  \n",
      "263     2013     2016     2019     2022     2024     2026     2026     2028  \n",
      "264    13720    13819    13887    13928    14022    14070    14131    14175  \n",
      "265     7531     7576     7598     7633     7647     7672     7683     7683  \n",
      "\n",
      "[5 rows x 248 columns]\n",
      "    Province/State      Country/Region        Lat       Long  1/22/20  \\\n",
      "261            NaN  West Bank and Gaza  31.952200  35.233200        0   \n",
      "262            NaN      Western Sahara  24.215500 -12.885800        0   \n",
      "263            NaN               Yemen  15.552727  48.516388        0   \n",
      "264            NaN              Zambia -13.133897  27.849332        0   \n",
      "265            NaN            Zimbabwe -19.015438  29.154857        0   \n",
      "\n",
      "     1/23/20  1/24/20  1/25/20  1/26/20  1/27/20  ...  9/12/20  9/13/20  \\\n",
      "261        0        0        0        0        0  ...      210      221   \n",
      "262        0        0        0        0        0  ...        1        1   \n",
      "263        0        0        0        0        0  ...      582      583   \n",
      "264        0        0        0        0        0  ...      312      312   \n",
      "265        0        0        0        0        0  ...      224      224   \n",
      "\n",
      "     9/14/20  9/15/20  9/16/20  9/17/20  9/18/20  9/19/20  9/20/20  9/21/20  \n",
      "261      226      229      243      244      250      253      262      265  \n",
      "262        1        1        1        1        1        1        1        1  \n",
      "263      583      583      583      585      585      585      586      586  \n",
      "264      320      324      326      326      329      330      330      331  \n",
      "265      224      224      224      224      224      225      225      225  \n",
      "\n",
      "[5 rows x 248 columns]\n",
      "    Province/State      Country/Region        Lat       Long  1/22/20  \\\n",
      "248            NaN  West Bank and Gaza  31.952200  35.233200        0   \n",
      "249            NaN      Western Sahara  24.215500 -12.885800        0   \n",
      "250            NaN               Yemen  15.552727  48.516388        0   \n",
      "251            NaN              Zambia -13.133897  27.849332        0   \n",
      "252            NaN            Zimbabwe -19.015438  29.154857        0   \n",
      "\n",
      "     1/23/20  1/24/20  1/25/20  1/26/20  1/27/20  ...  9/12/20  9/13/20  \\\n",
      "248        0        0        0        0        0  ...    19979    20082   \n",
      "249        0        0        0        0        0  ...        8        8   \n",
      "250        0        0        0        0        0  ...     1211     1212   \n",
      "251        0        0        0        0        0  ...    12007    12260   \n",
      "252        0        0        0        0        0  ...     5675     5678   \n",
      "\n",
      "     9/14/20  9/15/20  9/16/20  9/17/20  9/18/20  9/19/20  9/20/20  9/21/20  \n",
      "248    21406    21804    22209    23060    23333    23446    23700    24428  \n",
      "249        8        8        8        8        8        8        8        8  \n",
      "250     1215     1219     1221     1221     1221     1221     1227     1235  \n",
      "251    12380    12590    12869    13029    13207    13365    13365    13629  \n",
      "252     5690     5783     5823     5841     5883     5914     5924     5924  \n",
      "\n",
      "[5 rows x 248 columns]\n"
     ]
    }
   ],
   "source": [
    "print(Confirmed.tail(5))\n",
    "print(Deaths.tail(5))\n",
    "print(Recovered.tail(5))"
   ]
  },
  {
   "cell_type": "code",
   "execution_count": 6,
   "id": "00fd78b3",
   "metadata": {},
   "outputs": [
    {
     "name": "stdout",
     "output_type": "stream",
     "text": [
      "              Lat        Long     1/22/20     1/23/20     1/24/20     1/25/20  \\\n",
      "count  266.000000  266.000000  266.000000  266.000000  266.000000  266.000000   \n",
      "mean    21.076624   22.829441    2.086466    2.458647    3.537594    5.390977   \n",
      "std     24.904600   70.191330   27.279200   27.377862   34.083035   47.434934   \n",
      "min    -51.796300 -135.000000    0.000000    0.000000    0.000000    0.000000   \n",
      "25%      6.677575  -15.277675    0.000000    0.000000    0.000000    0.000000   \n",
      "50%     22.820850   20.921188    0.000000    0.000000    0.000000    0.000000   \n",
      "75%     41.143200   77.913685    0.000000    0.000000    0.000000    0.000000   \n",
      "max     71.706900  178.065000  444.000000  444.000000  549.000000  761.000000   \n",
      "\n",
      "           1/26/20      1/27/20      1/28/20      1/29/20  ...       9/12/20  \\\n",
      "count   266.000000   266.000000   266.000000   266.000000  ...  2.660000e+02   \n",
      "mean      7.962406    11.003759    20.969925    23.180451  ...  1.081163e+05   \n",
      "std      66.289178    89.313757   219.187744   220.524977  ...  5.678329e+05   \n",
      "min       0.000000     0.000000     0.000000     0.000000  ...  0.000000e+00   \n",
      "25%       0.000000     0.000000     0.000000     0.000000  ...  4.672500e+02   \n",
      "50%       0.000000     0.000000     0.000000     0.000000  ...  3.354500e+03   \n",
      "75%       0.000000     0.000000     0.000000     0.000000  ...  3.472475e+04   \n",
      "max    1058.000000  1423.000000  3554.000000  3554.000000  ...  6.485123e+06   \n",
      "\n",
      "            9/13/20       9/14/20       9/15/20       9/16/20       9/17/20  \\\n",
      "count  2.660000e+02  2.660000e+02  2.660000e+02  2.660000e+02  2.660000e+02   \n",
      "mean   1.090052e+05  1.100551e+05  1.111201e+05  1.122630e+05  1.134410e+05   \n",
      "std    5.727452e+05  5.774877e+05  5.831820e+05  5.891235e+05  5.953081e+05   \n",
      "min    0.000000e+00  0.000000e+00  0.000000e+00  0.000000e+00  0.000000e+00   \n",
      "25%    4.675000e+02  4.675000e+02  4.682500e+02  4.682500e+02  4.707500e+02   \n",
      "50%    3.381000e+03  3.397000e+03  3.459000e+03  3.466000e+03  3.522500e+03   \n",
      "75%    3.540750e+04  3.553900e+04  3.580200e+04  3.599400e+04  3.639525e+04   \n",
      "max    6.520122e+06  6.553652e+06  6.592342e+06  6.630051e+06  6.674411e+06   \n",
      "\n",
      "            9/18/20       9/19/20       9/20/20       9/21/20  \n",
      "count  2.660000e+02  2.660000e+02  2.660000e+02  2.660000e+02  \n",
      "mean   1.146599e+05  1.157171e+05  1.166240e+05  1.174654e+05  \n",
      "std    6.017349e+05  6.076737e+05  6.126599e+05  6.154886e+05  \n",
      "min    0.000000e+00  0.000000e+00  0.000000e+00  0.000000e+00  \n",
      "25%    4.707500e+02  4.707500e+02  4.707500e+02  4.710000e+02  \n",
      "50%    3.608000e+03  3.714500e+03  3.772000e+03  3.823500e+03  \n",
      "75%    3.670825e+04  3.731275e+04  3.781650e+04  3.826325e+04  \n",
      "max    6.723933e+06  6.768119e+06  6.804814e+06  6.856884e+06  \n",
      "\n",
      "[8 rows x 246 columns]\n",
      "              Lat        Long     1/22/20     1/23/20     1/24/20     1/25/20  \\\n",
      "count  266.000000  266.000000  266.000000  266.000000  266.000000  266.000000   \n",
      "mean    21.076624   22.829441    0.063910    0.067669    0.097744    0.157895   \n",
      "std     24.904600   70.191330    1.042337    1.043908    1.473615    2.453621   \n",
      "min    -51.796300 -135.000000    0.000000    0.000000    0.000000    0.000000   \n",
      "25%      6.677575  -15.277675    0.000000    0.000000    0.000000    0.000000   \n",
      "50%     22.820850   20.921188    0.000000    0.000000    0.000000    0.000000   \n",
      "75%     41.143200   77.913685    0.000000    0.000000    0.000000    0.000000   \n",
      "max     71.706900  178.065000   17.000000   17.000000   24.000000   40.000000   \n",
      "\n",
      "          1/26/20     1/27/20     1/28/20     1/29/20  ...        9/12/20  \\\n",
      "count  266.000000  266.000000  266.000000  266.000000  ...     266.000000   \n",
      "mean     0.210526    0.308271    0.492481    0.500000  ...    3459.515038   \n",
      "std      3.189730    4.660845    7.664297    7.664793  ...   16398.950919   \n",
      "min      0.000000    0.000000    0.000000    0.000000  ...       0.000000   \n",
      "25%      0.000000    0.000000    0.000000    0.000000  ...       5.000000   \n",
      "50%      0.000000    0.000000    0.000000    0.000000  ...      57.000000   \n",
      "75%      0.000000    0.000000    0.000000    0.000000  ...     588.000000   \n",
      "max     52.000000   76.000000  125.000000  125.000000  ...  193693.000000   \n",
      "\n",
      "             9/13/20        9/14/20        9/15/20        9/16/20  \\\n",
      "count     266.000000     266.000000     266.000000     266.000000   \n",
      "mean     3473.206767    3489.860902    3514.481203    3536.109023   \n",
      "std     16453.471108   16510.259597   16636.850630   16739.311674   \n",
      "min         0.000000       0.000000       0.000000       0.000000   \n",
      "25%         5.250000       5.250000       5.250000       5.250000   \n",
      "50%        57.000000      57.000000      58.000000      59.000000   \n",
      "75%       588.250000     611.500000     620.500000     620.500000   \n",
      "max    194071.000000  194493.000000  195781.000000  196763.000000   \n",
      "\n",
      "             9/17/20        9/18/20        9/19/20        9/20/20  \\\n",
      "count     266.000000     266.000000     266.000000     266.000000   \n",
      "mean     3556.620301    3578.071429    3597.740602    3611.635338   \n",
      "std     16831.543769   16934.234212   17019.787840   17068.307397   \n",
      "min         0.000000       0.000000       0.000000       0.000000   \n",
      "25%         5.250000       5.250000       5.250000       5.250000   \n",
      "50%        60.500000      61.500000      62.500000      64.000000   \n",
      "75%       622.500000     629.000000     635.750000     645.500000   \n",
      "max    197633.000000  198570.000000  199282.000000  199509.000000   \n",
      "\n",
      "             9/21/20  \n",
      "count     266.000000  \n",
      "mean     3622.906015  \n",
      "std     17102.864472  \n",
      "min         0.000000  \n",
      "25%         5.250000  \n",
      "50%        64.500000  \n",
      "75%       647.500000  \n",
      "max    199865.000000  \n",
      "\n",
      "[8 rows x 246 columns]\n",
      "              Lat        Long     1/22/20     1/23/20     1/24/20     1/25/20  \\\n",
      "count  253.000000  253.000000  253.000000  253.000000  253.000000  253.000000   \n",
      "mean    19.835137   27.997068    0.110672    0.118577    0.142292    0.154150   \n",
      "std     24.504550   67.358197    1.760345    1.764332    1.954723    2.020714   \n",
      "min    -51.796300 -106.346800    0.000000    0.000000    0.000000    0.000000   \n",
      "25%      6.428055   -8.224500    0.000000    0.000000    0.000000    0.000000   \n",
      "50%     21.521757   23.881300    0.000000    0.000000    0.000000    0.000000   \n",
      "75%     39.305400   85.240100    0.000000    0.000000    0.000000    0.000000   \n",
      "max     71.706900  178.065000   28.000000   28.000000   31.000000   32.000000   \n",
      "\n",
      "          1/26/20     1/27/20     1/28/20     1/29/20  ...       9/12/20  \\\n",
      "count  253.000000  253.000000  253.000000  253.000000  ...  2.530000e+02   \n",
      "mean     0.205534    0.241107    0.422925    0.498024  ...  7.683461e+04   \n",
      "std      2.649732    2.852382    5.059859    5.566071  ...  3.738531e+05   \n",
      "min      0.000000    0.000000    0.000000    0.000000  ...  0.000000e+00   \n",
      "25%      0.000000    0.000000    0.000000    0.000000  ...  3.680000e+02   \n",
      "50%      0.000000    0.000000    0.000000    0.000000  ...  1.991000e+03   \n",
      "75%      0.000000    0.000000    0.000000    0.000000  ...  1.997900e+04   \n",
      "max     42.000000   45.000000   80.000000   88.000000  ...  3.723206e+06   \n",
      "\n",
      "            9/13/20       9/14/20       9/15/20       9/16/20       9/17/20  \\\n",
      "count  2.530000e+02  2.530000e+02  2.530000e+02  2.530000e+02  2.530000e+02   \n",
      "mean   7.756891e+04  7.847586e+04  7.936355e+04  8.026853e+04  8.113512e+04   \n",
      "std    3.774536e+05  3.831228e+05  3.886656e+05  3.941652e+05  3.993233e+05   \n",
      "min    0.000000e+00  0.000000e+00  0.000000e+00  0.000000e+00  0.000000e+00   \n",
      "25%    3.740000e+02  3.740000e+02  3.740000e+02  3.740000e+02  3.740000e+02   \n",
      "50%    1.991000e+03  2.071000e+03  2.094000e+03  2.104000e+03  2.112000e+03   \n",
      "75%    2.008200e+04  2.120600e+04  2.153600e+04  2.175200e+04  2.266200e+04   \n",
      "max    3.780107e+06  3.859399e+06  3.942360e+06  4.025079e+06  4.112551e+06   \n",
      "\n",
      "            9/18/20       9/19/20       9/20/20       9/21/20  \n",
      "count  2.530000e+02  2.530000e+02  2.530000e+02  2.530000e+02  \n",
      "mean   8.213040e+04  8.307036e+04  8.400322e+04  8.456361e+04  \n",
      "std    4.045893e+05  4.106165e+05  4.159772e+05  4.178944e+05  \n",
      "min    0.000000e+00  0.000000e+00  0.000000e+00  0.000000e+00  \n",
      "25%    3.740000e+02  3.740000e+02  3.800000e+02  3.800000e+02  \n",
      "50%    2.128000e+03  2.197000e+03  2.239000e+03  2.369000e+03  \n",
      "75%    2.316000e+04  2.336400e+04  2.336400e+04  2.336400e+04  \n",
      "max    4.208431e+06  4.303043e+06  4.396399e+06  4.396399e+06  \n",
      "\n",
      "[8 rows x 246 columns]\n"
     ]
    }
   ],
   "source": [
    "print(Confirmed.describe())\n",
    "print(Deaths.describe())\n",
    "print(Recovered.describe())"
   ]
  },
  {
   "cell_type": "markdown",
   "id": "08500eb0",
   "metadata": {},
   "source": [
    "## Insights\n",
    "* After apply in  basic check.\n",
    "* we can obeserve that ,the 3 datasets having same columns and same rows"
   ]
  },
  {
   "cell_type": "markdown",
   "id": "7402c2d3",
   "metadata": {},
   "source": [
    "##  The transpose of three dataset\n",
    "* In pandas, transposing a DataFrame means switching its rows and columns, effectively rotating the DataFrame. This operation is performed using the .T attribute or the .transpose() method."
   ]
  },
  {
   "cell_type": "code",
   "execution_count": 7,
   "id": "3a0a4bfb",
   "metadata": {},
   "outputs": [
    {
     "data": {
      "text/plain": [
       "(                        0        1        2        3        4    \\\n",
       " Province/State          NaN      NaN      NaN      NaN      NaN   \n",
       " Country/Region  Afghanistan  Albania  Algeria  Andorra   Angola   \n",
       " Lat                33.93911  41.1533  28.0339  42.5063 -11.2027   \n",
       " Long              67.709953  20.1683   1.6596   1.5218  17.8739   \n",
       " 1/22/20                   0        0        0        0        0   \n",
       " \n",
       "                                 5          6        7    \\\n",
       " Province/State                  NaN        NaN      NaN   \n",
       " Country/Region  Antigua and Barbuda  Argentina  Armenia   \n",
       " Lat                         17.0608   -38.4161  40.0691   \n",
       " Long                       -61.7964   -63.6167  45.0382   \n",
       " 1/22/20                           0          0        0   \n",
       " \n",
       "                                          8                9    ...  \\\n",
       " Province/State  Australian Capital Territory  New South Wales  ...   \n",
       " Country/Region                     Australia        Australia  ...   \n",
       " Lat                                 -35.4735         -33.8688  ...   \n",
       " Long                                149.0124         151.2093  ...   \n",
       " 1/22/20                                    0                0  ...   \n",
       " \n",
       "                            256      257         258        259         260  \\\n",
       " Province/State             NaN      NaN         NaN        NaN         NaN   \n",
       " Country/Region  United Kingdom  Uruguay  Uzbekistan  Venezuela     Vietnam   \n",
       " Lat                    55.3781 -32.5228   41.377491     6.4238   14.058324   \n",
       " Long                    -3.436 -55.7658   64.585262   -66.5897  108.277199   \n",
       " 1/22/20                      0        0           0          0           0   \n",
       " \n",
       "                                261             262        263        264  \\\n",
       " Province/State                 NaN             NaN        NaN        NaN   \n",
       " Country/Region  West Bank and Gaza  Western Sahara      Yemen     Zambia   \n",
       " Lat                        31.9522         24.2155  15.552727 -13.133897   \n",
       " Long                       35.2332        -12.8858  48.516388  27.849332   \n",
       " 1/22/20                          0               0          0          0   \n",
       " \n",
       "                       265  \n",
       " Province/State        NaN  \n",
       " Country/Region   Zimbabwe  \n",
       " Lat            -19.015438  \n",
       " Long            29.154857  \n",
       " 1/22/20                 0  \n",
       " \n",
       " [5 rows x 266 columns],\n",
       "                         0        1        2        3        4    \\\n",
       " Province/State          NaN      NaN      NaN      NaN      NaN   \n",
       " Country/Region  Afghanistan  Albania  Algeria  Andorra   Angola   \n",
       " Lat                33.93911  41.1533  28.0339  42.5063 -11.2027   \n",
       " Long              67.709953  20.1683   1.6596   1.5218  17.8739   \n",
       " 1/22/20                   0        0        0        0        0   \n",
       " \n",
       "                                 5          6        7    \\\n",
       " Province/State                  NaN        NaN      NaN   \n",
       " Country/Region  Antigua and Barbuda  Argentina  Armenia   \n",
       " Lat                         17.0608   -38.4161  40.0691   \n",
       " Long                       -61.7964   -63.6167  45.0382   \n",
       " 1/22/20                           0          0        0   \n",
       " \n",
       "                                          8                9    ...  \\\n",
       " Province/State  Australian Capital Territory  New South Wales  ...   \n",
       " Country/Region                     Australia        Australia  ...   \n",
       " Lat                                 -35.4735         -33.8688  ...   \n",
       " Long                                149.0124         151.2093  ...   \n",
       " 1/22/20                                    0                0  ...   \n",
       " \n",
       "                            256      257         258        259         260  \\\n",
       " Province/State             NaN      NaN         NaN        NaN         NaN   \n",
       " Country/Region  United Kingdom  Uruguay  Uzbekistan  Venezuela     Vietnam   \n",
       " Lat                    55.3781 -32.5228   41.377491     6.4238   14.058324   \n",
       " Long                    -3.436 -55.7658   64.585262   -66.5897  108.277199   \n",
       " 1/22/20                      0        0           0          0           0   \n",
       " \n",
       "                                261             262        263        264  \\\n",
       " Province/State                 NaN             NaN        NaN        NaN   \n",
       " Country/Region  West Bank and Gaza  Western Sahara      Yemen     Zambia   \n",
       " Lat                        31.9522         24.2155  15.552727 -13.133897   \n",
       " Long                       35.2332        -12.8858  48.516388  27.849332   \n",
       " 1/22/20                          0               0          0          0   \n",
       " \n",
       "                       265  \n",
       " Province/State        NaN  \n",
       " Country/Region   Zimbabwe  \n",
       " Lat            -19.015438  \n",
       " Long            29.154857  \n",
       " 1/22/20                 0  \n",
       " \n",
       " [5 rows x 266 columns],\n",
       "                         0        1        2        3        4    \\\n",
       " Province/State          NaN      NaN      NaN      NaN      NaN   \n",
       " Country/Region  Afghanistan  Albania  Algeria  Andorra   Angola   \n",
       " Lat                33.93911  41.1533  28.0339  42.5063 -11.2027   \n",
       " Long              67.709953  20.1683   1.6596   1.5218  17.8739   \n",
       " 1/22/20                   0        0        0        0        0   \n",
       " \n",
       "                                 5          6        7    \\\n",
       " Province/State                  NaN        NaN      NaN   \n",
       " Country/Region  Antigua and Barbuda  Argentina  Armenia   \n",
       " Lat                         17.0608   -38.4161  40.0691   \n",
       " Long                       -61.7964   -63.6167  45.0382   \n",
       " 1/22/20                           0          0        0   \n",
       " \n",
       "                                          8                9    ...  \\\n",
       " Province/State  Australian Capital Territory  New South Wales  ...   \n",
       " Country/Region                     Australia        Australia  ...   \n",
       " Lat                                 -35.4735         -33.8688  ...   \n",
       " Long                                149.0124         151.2093  ...   \n",
       " 1/22/20                                    0                0  ...   \n",
       " \n",
       "                            243      244         245        246         247  \\\n",
       " Province/State             NaN      NaN         NaN        NaN         NaN   \n",
       " Country/Region  United Kingdom  Uruguay  Uzbekistan  Venezuela     Vietnam   \n",
       " Lat                    55.3781 -32.5228   41.377491     6.4238   14.058324   \n",
       " Long                    -3.436 -55.7658   64.585262   -66.5897  108.277199   \n",
       " 1/22/20                      0        0           0          0           0   \n",
       " \n",
       "                                248             249        250        251  \\\n",
       " Province/State                 NaN             NaN        NaN        NaN   \n",
       " Country/Region  West Bank and Gaza  Western Sahara      Yemen     Zambia   \n",
       " Lat                        31.9522         24.2155  15.552727 -13.133897   \n",
       " Long                       35.2332        -12.8858  48.516388  27.849332   \n",
       " 1/22/20                          0               0          0          0   \n",
       " \n",
       "                       252  \n",
       " Province/State        NaN  \n",
       " Country/Region   Zimbabwe  \n",
       " Lat            -19.015438  \n",
       " Long            29.154857  \n",
       " 1/22/20                 0  \n",
       " \n",
       " [5 rows x 253 columns])"
      ]
     },
     "execution_count": 7,
     "metadata": {},
     "output_type": "execute_result"
    }
   ],
   "source": [
    "Confirmed.T.head(),Deaths.T.head(),Recovered.T.head()"
   ]
  },
  {
   "cell_type": "code",
   "execution_count": 8,
   "id": "37cd2988",
   "metadata": {},
   "outputs": [
    {
     "data": {
      "text/plain": [
       "China             33\n",
       "Canada            14\n",
       "United Kingdom    11\n",
       "France            11\n",
       "Australia          8\n",
       "                  ..\n",
       "Greece             1\n",
       "Grenada            1\n",
       "Guatemala          1\n",
       "Guinea             1\n",
       "Zimbabwe           1\n",
       "Name: Country/Region, Length: 188, dtype: int64"
      ]
     },
     "execution_count": 8,
     "metadata": {},
     "output_type": "execute_result"
    }
   ],
   "source": [
    "Confirmed['Country/Region'].value_counts()"
   ]
  },
  {
   "cell_type": "markdown",
   "id": "869be640",
   "metadata": {},
   "source": [
    "## Train and Test Split for Time Series"
   ]
  },
  {
   "cell_type": "code",
   "execution_count": 9,
   "id": "6924a07d",
   "metadata": {},
   "outputs": [
    {
     "name": "stdout",
     "output_type": "stream",
     "text": [
      "188 ['Afghanistan' 'Albania' 'Algeria' 'Andorra' 'Angola'\n",
      " 'Antigua and Barbuda' 'Argentina' 'Armenia' 'Australia' 'Austria'\n",
      " 'Azerbaijan' 'Bahamas' 'Bahrain' 'Bangladesh' 'Barbados' 'Belarus'\n",
      " 'Belgium' 'Belize' 'Benin' 'Bhutan' 'Bolivia' 'Bosnia and Herzegovina'\n",
      " 'Botswana' 'Brazil' 'Brunei' 'Bulgaria' 'Burkina Faso' 'Burma' 'Burundi'\n",
      " 'Cabo Verde' 'Cambodia' 'Cameroon' 'Canada' 'Central African Republic'\n",
      " 'Chad' 'Chile' 'China' 'Colombia' 'Comoros' 'Congo (Brazzaville)'\n",
      " 'Congo (Kinshasa)' 'Costa Rica' \"Cote d'Ivoire\" 'Croatia' 'Cuba' 'Cyprus'\n",
      " 'Czechia' 'Denmark' 'Diamond Princess' 'Djibouti' 'Dominica'\n",
      " 'Dominican Republic' 'Ecuador' 'Egypt' 'El Salvador' 'Equatorial Guinea'\n",
      " 'Eritrea' 'Estonia' 'Eswatini' 'Ethiopia' 'Fiji' 'Finland' 'France'\n",
      " 'Gabon' 'Gambia' 'Georgia' 'Germany' 'Ghana' 'Greece' 'Grenada'\n",
      " 'Guatemala' 'Guinea' 'Guinea-Bissau' 'Guyana' 'Haiti' 'Holy See'\n",
      " 'Honduras' 'Hungary' 'Iceland' 'India' 'Indonesia' 'Iran' 'Iraq'\n",
      " 'Ireland' 'Israel' 'Italy' 'Jamaica' 'Japan' 'Jordan' 'Kazakhstan'\n",
      " 'Kenya' 'Korea, South' 'Kosovo' 'Kuwait' 'Kyrgyzstan' 'Laos' 'Latvia'\n",
      " 'Lebanon' 'Lesotho' 'Liberia' 'Libya' 'Liechtenstein' 'Lithuania'\n",
      " 'Luxembourg' 'MS Zaandam' 'Madagascar' 'Malawi' 'Malaysia' 'Maldives'\n",
      " 'Mali' 'Malta' 'Mauritania' 'Mauritius' 'Mexico' 'Moldova' 'Monaco'\n",
      " 'Mongolia' 'Montenegro' 'Morocco' 'Mozambique' 'Namibia' 'Nepal'\n",
      " 'Netherlands' 'New Zealand' 'Nicaragua' 'Niger' 'Nigeria'\n",
      " 'North Macedonia' 'Norway' 'Oman' 'Pakistan' 'Panama' 'Papua New Guinea'\n",
      " 'Paraguay' 'Peru' 'Philippines' 'Poland' 'Portugal' 'Qatar' 'Romania'\n",
      " 'Russia' 'Rwanda' 'Saint Kitts and Nevis' 'Saint Lucia'\n",
      " 'Saint Vincent and the Grenadines' 'San Marino' 'Sao Tome and Principe'\n",
      " 'Saudi Arabia' 'Senegal' 'Serbia' 'Seychelles' 'Sierra Leone' 'Singapore'\n",
      " 'Slovakia' 'Slovenia' 'Somalia' 'South Africa' 'South Sudan' 'Spain'\n",
      " 'Sri Lanka' 'Sudan' 'Suriname' 'Sweden' 'Switzerland' 'Syria' 'Taiwan*'\n",
      " 'Tajikistan' 'Tanzania' 'Thailand' 'Timor-Leste' 'Togo'\n",
      " 'Trinidad and Tobago' 'Tunisia' 'Turkey' 'US' 'Uganda' 'Ukraine'\n",
      " 'United Arab Emirates' 'United Kingdom' 'Uruguay' 'Uzbekistan'\n",
      " 'Venezuela' 'Vietnam' 'West Bank and Gaza' 'Western Sahara' 'Yemen'\n",
      " 'Zambia' 'Zimbabwe']\n"
     ]
    }
   ],
   "source": [
    "print(Confirmed['Country/Region'].nunique(),Confirmed['Country/Region'].unique())"
   ]
  },
  {
   "cell_type": "markdown",
   "id": "5bb62719",
   "metadata": {},
   "source": [
    "## Filter the 3 dataframe for data of india only"
   ]
  },
  {
   "cell_type": "code",
   "execution_count": 10,
   "id": "fd2024b2",
   "metadata": {},
   "outputs": [
    {
     "name": "stdout",
     "output_type": "stream",
     "text": [
      "                      143\n",
      "Province/State        NaN\n",
      "Country/Region      India\n",
      "Lat             20.593684\n",
      "Long             78.96288\n",
      "1/22/20                 0\n",
      "...                   ...\n",
      "9/17/20           5214677\n",
      "9/18/20           5308014\n",
      "9/19/20           5400619\n",
      "9/20/20           5487580\n",
      "9/21/20           5487580\n",
      "\n",
      "[248 rows x 1 columns]\n",
      "                      143\n",
      "Province/State        NaN\n",
      "Country/Region      India\n",
      "Lat             20.593684\n",
      "Long             78.96288\n",
      "1/22/20                 0\n",
      "...                   ...\n",
      "9/17/20             84372\n",
      "9/18/20             85619\n",
      "9/19/20             86752\n",
      "9/20/20             87882\n",
      "9/21/20             87882\n",
      "\n",
      "[248 rows x 1 columns]\n",
      "                      130\n",
      "Province/State        NaN\n",
      "Country/Region      India\n",
      "Lat             20.593684\n",
      "Long             78.96288\n",
      "1/22/20                 0\n",
      "...                   ...\n",
      "9/17/20           4112551\n",
      "9/18/20           4208431\n",
      "9/19/20           4303043\n",
      "9/20/20           4396399\n",
      "9/21/20           4396399\n",
      "\n",
      "[248 rows x 1 columns]\n"
     ]
    }
   ],
   "source": [
    "india_Confirmed=Confirmed[Confirmed['Country/Region']==\"India\"].T\n",
    "india_Deaths=Deaths[Deaths['Country/Region']==\"India\"].T\n",
    "india_Recovered=Recovered[Recovered['Country/Region']==\"India\"].T\n",
    "print(india_Confirmed)\n",
    "print(india_Deaths)\n",
    "print(india_Recovered)"
   ]
  },
  {
   "cell_type": "code",
   "execution_count": 11,
   "id": "311c3878",
   "metadata": {},
   "outputs": [],
   "source": [
    "india_join=india_Confirmed.join(india_Deaths,how='left',lsuffix='_Confirmed',rsuffix='_Deaths')\n",
    "india=india_join.join(india_Recovered,how='left',lsuffix='_',rsuffix='_Recovered')\n",
    "india=india.rename(columns={\"143_Confirmed\":\"Confirmed\",\"143_Deaths\":\"Deaths\",130:\"Recovered\"})"
   ]
  },
  {
   "cell_type": "markdown",
   "id": "14f0c83a",
   "metadata": {},
   "source": [
    "## View the join data India"
   ]
  },
  {
   "cell_type": "code",
   "execution_count": 12,
   "id": "6a4ddc0d",
   "metadata": {},
   "outputs": [
    {
     "data": {
      "text/html": [
       "<div>\n",
       "<style scoped>\n",
       "    .dataframe tbody tr th:only-of-type {\n",
       "        vertical-align: middle;\n",
       "    }\n",
       "\n",
       "    .dataframe tbody tr th {\n",
       "        vertical-align: top;\n",
       "    }\n",
       "\n",
       "    .dataframe thead th {\n",
       "        text-align: right;\n",
       "    }\n",
       "</style>\n",
       "<table border=\"1\" class=\"dataframe\">\n",
       "  <thead>\n",
       "    <tr style=\"text-align: right;\">\n",
       "      <th></th>\n",
       "      <th>Confirmed</th>\n",
       "      <th>Deaths</th>\n",
       "      <th>Recovered</th>\n",
       "    </tr>\n",
       "  </thead>\n",
       "  <tbody>\n",
       "    <tr>\n",
       "      <th>Province/State</th>\n",
       "      <td>NaN</td>\n",
       "      <td>NaN</td>\n",
       "      <td>NaN</td>\n",
       "    </tr>\n",
       "    <tr>\n",
       "      <th>Country/Region</th>\n",
       "      <td>India</td>\n",
       "      <td>India</td>\n",
       "      <td>India</td>\n",
       "    </tr>\n",
       "    <tr>\n",
       "      <th>Lat</th>\n",
       "      <td>20.593684</td>\n",
       "      <td>20.593684</td>\n",
       "      <td>20.593684</td>\n",
       "    </tr>\n",
       "    <tr>\n",
       "      <th>Long</th>\n",
       "      <td>78.96288</td>\n",
       "      <td>78.96288</td>\n",
       "      <td>78.96288</td>\n",
       "    </tr>\n",
       "    <tr>\n",
       "      <th>1/22/20</th>\n",
       "      <td>0</td>\n",
       "      <td>0</td>\n",
       "      <td>0</td>\n",
       "    </tr>\n",
       "    <tr>\n",
       "      <th>...</th>\n",
       "      <td>...</td>\n",
       "      <td>...</td>\n",
       "      <td>...</td>\n",
       "    </tr>\n",
       "    <tr>\n",
       "      <th>9/17/20</th>\n",
       "      <td>5214677</td>\n",
       "      <td>84372</td>\n",
       "      <td>4112551</td>\n",
       "    </tr>\n",
       "    <tr>\n",
       "      <th>9/18/20</th>\n",
       "      <td>5308014</td>\n",
       "      <td>85619</td>\n",
       "      <td>4208431</td>\n",
       "    </tr>\n",
       "    <tr>\n",
       "      <th>9/19/20</th>\n",
       "      <td>5400619</td>\n",
       "      <td>86752</td>\n",
       "      <td>4303043</td>\n",
       "    </tr>\n",
       "    <tr>\n",
       "      <th>9/20/20</th>\n",
       "      <td>5487580</td>\n",
       "      <td>87882</td>\n",
       "      <td>4396399</td>\n",
       "    </tr>\n",
       "    <tr>\n",
       "      <th>9/21/20</th>\n",
       "      <td>5487580</td>\n",
       "      <td>87882</td>\n",
       "      <td>4396399</td>\n",
       "    </tr>\n",
       "  </tbody>\n",
       "</table>\n",
       "<p>248 rows × 3 columns</p>\n",
       "</div>"
      ],
      "text/plain": [
       "                Confirmed     Deaths  Recovered\n",
       "Province/State        NaN        NaN        NaN\n",
       "Country/Region      India      India      India\n",
       "Lat             20.593684  20.593684  20.593684\n",
       "Long             78.96288   78.96288   78.96288\n",
       "1/22/20                 0          0          0\n",
       "...                   ...        ...        ...\n",
       "9/17/20           5214677      84372    4112551\n",
       "9/18/20           5308014      85619    4208431\n",
       "9/19/20           5400619      86752    4303043\n",
       "9/20/20           5487580      87882    4396399\n",
       "9/21/20           5487580      87882    4396399\n",
       "\n",
       "[248 rows x 3 columns]"
      ]
     },
     "execution_count": 12,
     "metadata": {},
     "output_type": "execute_result"
    }
   ],
   "source": [
    "india"
   ]
  },
  {
   "cell_type": "markdown",
   "id": "73bfaae1",
   "metadata": {},
   "source": [
    "## Exclude the less significant raw of the data"
   ]
  },
  {
   "cell_type": "code",
   "execution_count": 13,
   "id": "483995d4",
   "metadata": {},
   "outputs": [],
   "source": [
    "india=india[4:]"
   ]
  },
  {
   "cell_type": "code",
   "execution_count": 14,
   "id": "199315b8",
   "metadata": {},
   "outputs": [
    {
     "data": {
      "text/html": [
       "<div>\n",
       "<style scoped>\n",
       "    .dataframe tbody tr th:only-of-type {\n",
       "        vertical-align: middle;\n",
       "    }\n",
       "\n",
       "    .dataframe tbody tr th {\n",
       "        vertical-align: top;\n",
       "    }\n",
       "\n",
       "    .dataframe thead th {\n",
       "        text-align: right;\n",
       "    }\n",
       "</style>\n",
       "<table border=\"1\" class=\"dataframe\">\n",
       "  <thead>\n",
       "    <tr style=\"text-align: right;\">\n",
       "      <th></th>\n",
       "      <th>Confirmed</th>\n",
       "      <th>Deaths</th>\n",
       "      <th>Recovered</th>\n",
       "    </tr>\n",
       "  </thead>\n",
       "  <tbody>\n",
       "    <tr>\n",
       "      <th>1/22/20</th>\n",
       "      <td>0</td>\n",
       "      <td>0</td>\n",
       "      <td>0</td>\n",
       "    </tr>\n",
       "    <tr>\n",
       "      <th>1/23/20</th>\n",
       "      <td>0</td>\n",
       "      <td>0</td>\n",
       "      <td>0</td>\n",
       "    </tr>\n",
       "    <tr>\n",
       "      <th>1/24/20</th>\n",
       "      <td>0</td>\n",
       "      <td>0</td>\n",
       "      <td>0</td>\n",
       "    </tr>\n",
       "    <tr>\n",
       "      <th>1/25/20</th>\n",
       "      <td>0</td>\n",
       "      <td>0</td>\n",
       "      <td>0</td>\n",
       "    </tr>\n",
       "    <tr>\n",
       "      <th>1/26/20</th>\n",
       "      <td>0</td>\n",
       "      <td>0</td>\n",
       "      <td>0</td>\n",
       "    </tr>\n",
       "    <tr>\n",
       "      <th>...</th>\n",
       "      <td>...</td>\n",
       "      <td>...</td>\n",
       "      <td>...</td>\n",
       "    </tr>\n",
       "    <tr>\n",
       "      <th>9/17/20</th>\n",
       "      <td>5214677</td>\n",
       "      <td>84372</td>\n",
       "      <td>4112551</td>\n",
       "    </tr>\n",
       "    <tr>\n",
       "      <th>9/18/20</th>\n",
       "      <td>5308014</td>\n",
       "      <td>85619</td>\n",
       "      <td>4208431</td>\n",
       "    </tr>\n",
       "    <tr>\n",
       "      <th>9/19/20</th>\n",
       "      <td>5400619</td>\n",
       "      <td>86752</td>\n",
       "      <td>4303043</td>\n",
       "    </tr>\n",
       "    <tr>\n",
       "      <th>9/20/20</th>\n",
       "      <td>5487580</td>\n",
       "      <td>87882</td>\n",
       "      <td>4396399</td>\n",
       "    </tr>\n",
       "    <tr>\n",
       "      <th>9/21/20</th>\n",
       "      <td>5487580</td>\n",
       "      <td>87882</td>\n",
       "      <td>4396399</td>\n",
       "    </tr>\n",
       "  </tbody>\n",
       "</table>\n",
       "<p>244 rows × 3 columns</p>\n",
       "</div>"
      ],
      "text/plain": [
       "        Confirmed Deaths Recovered\n",
       "1/22/20         0      0         0\n",
       "1/23/20         0      0         0\n",
       "1/24/20         0      0         0\n",
       "1/25/20         0      0         0\n",
       "1/26/20         0      0         0\n",
       "...           ...    ...       ...\n",
       "9/17/20   5214677  84372   4112551\n",
       "9/18/20   5308014  85619   4208431\n",
       "9/19/20   5400619  86752   4303043\n",
       "9/20/20   5487580  87882   4396399\n",
       "9/21/20   5487580  87882   4396399\n",
       "\n",
       "[244 rows x 3 columns]"
      ]
     },
     "execution_count": 14,
     "metadata": {},
     "output_type": "execute_result"
    }
   ],
   "source": [
    "india"
   ]
  },
  {
   "cell_type": "code",
   "execution_count": 15,
   "id": "f5ad735a",
   "metadata": {},
   "outputs": [],
   "source": [
    "india.index=pd.to_datetime(india.index)"
   ]
  },
  {
   "cell_type": "code",
   "execution_count": 16,
   "id": "29d21111",
   "metadata": {},
   "outputs": [
    {
     "data": {
      "text/html": [
       "<div>\n",
       "<style scoped>\n",
       "    .dataframe tbody tr th:only-of-type {\n",
       "        vertical-align: middle;\n",
       "    }\n",
       "\n",
       "    .dataframe tbody tr th {\n",
       "        vertical-align: top;\n",
       "    }\n",
       "\n",
       "    .dataframe thead th {\n",
       "        text-align: right;\n",
       "    }\n",
       "</style>\n",
       "<table border=\"1\" class=\"dataframe\">\n",
       "  <thead>\n",
       "    <tr style=\"text-align: right;\">\n",
       "      <th></th>\n",
       "      <th>Confirmed</th>\n",
       "      <th>Deaths</th>\n",
       "      <th>Recovered</th>\n",
       "    </tr>\n",
       "  </thead>\n",
       "  <tbody>\n",
       "    <tr>\n",
       "      <th>2020-01-22</th>\n",
       "      <td>0</td>\n",
       "      <td>0</td>\n",
       "      <td>0</td>\n",
       "    </tr>\n",
       "    <tr>\n",
       "      <th>2020-01-23</th>\n",
       "      <td>0</td>\n",
       "      <td>0</td>\n",
       "      <td>0</td>\n",
       "    </tr>\n",
       "    <tr>\n",
       "      <th>2020-01-24</th>\n",
       "      <td>0</td>\n",
       "      <td>0</td>\n",
       "      <td>0</td>\n",
       "    </tr>\n",
       "    <tr>\n",
       "      <th>2020-01-25</th>\n",
       "      <td>0</td>\n",
       "      <td>0</td>\n",
       "      <td>0</td>\n",
       "    </tr>\n",
       "    <tr>\n",
       "      <th>2020-01-26</th>\n",
       "      <td>0</td>\n",
       "      <td>0</td>\n",
       "      <td>0</td>\n",
       "    </tr>\n",
       "    <tr>\n",
       "      <th>...</th>\n",
       "      <td>...</td>\n",
       "      <td>...</td>\n",
       "      <td>...</td>\n",
       "    </tr>\n",
       "    <tr>\n",
       "      <th>2020-09-17</th>\n",
       "      <td>5214677</td>\n",
       "      <td>84372</td>\n",
       "      <td>4112551</td>\n",
       "    </tr>\n",
       "    <tr>\n",
       "      <th>2020-09-18</th>\n",
       "      <td>5308014</td>\n",
       "      <td>85619</td>\n",
       "      <td>4208431</td>\n",
       "    </tr>\n",
       "    <tr>\n",
       "      <th>2020-09-19</th>\n",
       "      <td>5400619</td>\n",
       "      <td>86752</td>\n",
       "      <td>4303043</td>\n",
       "    </tr>\n",
       "    <tr>\n",
       "      <th>2020-09-20</th>\n",
       "      <td>5487580</td>\n",
       "      <td>87882</td>\n",
       "      <td>4396399</td>\n",
       "    </tr>\n",
       "    <tr>\n",
       "      <th>2020-09-21</th>\n",
       "      <td>5487580</td>\n",
       "      <td>87882</td>\n",
       "      <td>4396399</td>\n",
       "    </tr>\n",
       "  </tbody>\n",
       "</table>\n",
       "<p>244 rows × 3 columns</p>\n",
       "</div>"
      ],
      "text/plain": [
       "           Confirmed Deaths Recovered\n",
       "2020-01-22         0      0         0\n",
       "2020-01-23         0      0         0\n",
       "2020-01-24         0      0         0\n",
       "2020-01-25         0      0         0\n",
       "2020-01-26         0      0         0\n",
       "...              ...    ...       ...\n",
       "2020-09-17   5214677  84372   4112551\n",
       "2020-09-18   5308014  85619   4208431\n",
       "2020-09-19   5400619  86752   4303043\n",
       "2020-09-20   5487580  87882   4396399\n",
       "2020-09-21   5487580  87882   4396399\n",
       "\n",
       "[244 rows x 3 columns]"
      ]
     },
     "execution_count": 16,
     "metadata": {},
     "output_type": "execute_result"
    }
   ],
   "source": [
    "india"
   ]
  },
  {
   "cell_type": "code",
   "execution_count": 17,
   "id": "fa89531c",
   "metadata": {},
   "outputs": [
    {
     "name": "stdout",
     "output_type": "stream",
     "text": [
      "170\n"
     ]
    }
   ],
   "source": [
    "split_point=int(0.7*len(india))\n",
    "print(split_point)\n",
    "train=india[0:split_point]\n",
    "test=india[split_point:]"
   ]
  },
  {
   "cell_type": "code",
   "execution_count": 18,
   "id": "47632411",
   "metadata": {},
   "outputs": [
    {
     "data": {
      "text/html": [
       "<div>\n",
       "<style scoped>\n",
       "    .dataframe tbody tr th:only-of-type {\n",
       "        vertical-align: middle;\n",
       "    }\n",
       "\n",
       "    .dataframe tbody tr th {\n",
       "        vertical-align: top;\n",
       "    }\n",
       "\n",
       "    .dataframe thead th {\n",
       "        text-align: right;\n",
       "    }\n",
       "</style>\n",
       "<table border=\"1\" class=\"dataframe\">\n",
       "  <thead>\n",
       "    <tr style=\"text-align: right;\">\n",
       "      <th></th>\n",
       "      <th>Confirmed</th>\n",
       "      <th>Deaths</th>\n",
       "      <th>Recovered</th>\n",
       "    </tr>\n",
       "  </thead>\n",
       "  <tbody>\n",
       "    <tr>\n",
       "      <th>2020-01-22</th>\n",
       "      <td>0</td>\n",
       "      <td>0</td>\n",
       "      <td>0</td>\n",
       "    </tr>\n",
       "    <tr>\n",
       "      <th>2020-01-23</th>\n",
       "      <td>0</td>\n",
       "      <td>0</td>\n",
       "      <td>0</td>\n",
       "    </tr>\n",
       "    <tr>\n",
       "      <th>2020-01-24</th>\n",
       "      <td>0</td>\n",
       "      <td>0</td>\n",
       "      <td>0</td>\n",
       "    </tr>\n",
       "    <tr>\n",
       "      <th>2020-01-25</th>\n",
       "      <td>0</td>\n",
       "      <td>0</td>\n",
       "      <td>0</td>\n",
       "    </tr>\n",
       "    <tr>\n",
       "      <th>2020-01-26</th>\n",
       "      <td>0</td>\n",
       "      <td>0</td>\n",
       "      <td>0</td>\n",
       "    </tr>\n",
       "    <tr>\n",
       "      <th>...</th>\n",
       "      <td>...</td>\n",
       "      <td>...</td>\n",
       "      <td>...</td>\n",
       "    </tr>\n",
       "    <tr>\n",
       "      <th>2020-07-05</th>\n",
       "      <td>697413</td>\n",
       "      <td>19693</td>\n",
       "      <td>424433</td>\n",
       "    </tr>\n",
       "    <tr>\n",
       "      <th>2020-07-06</th>\n",
       "      <td>719664</td>\n",
       "      <td>20159</td>\n",
       "      <td>439934</td>\n",
       "    </tr>\n",
       "    <tr>\n",
       "      <th>2020-07-07</th>\n",
       "      <td>742417</td>\n",
       "      <td>20642</td>\n",
       "      <td>456831</td>\n",
       "    </tr>\n",
       "    <tr>\n",
       "      <th>2020-07-08</th>\n",
       "      <td>767296</td>\n",
       "      <td>21129</td>\n",
       "      <td>476378</td>\n",
       "    </tr>\n",
       "    <tr>\n",
       "      <th>2020-07-09</th>\n",
       "      <td>793802</td>\n",
       "      <td>21604</td>\n",
       "      <td>495513</td>\n",
       "    </tr>\n",
       "  </tbody>\n",
       "</table>\n",
       "<p>170 rows × 3 columns</p>\n",
       "</div>"
      ],
      "text/plain": [
       "           Confirmed Deaths Recovered\n",
       "2020-01-22         0      0         0\n",
       "2020-01-23         0      0         0\n",
       "2020-01-24         0      0         0\n",
       "2020-01-25         0      0         0\n",
       "2020-01-26         0      0         0\n",
       "...              ...    ...       ...\n",
       "2020-07-05    697413  19693    424433\n",
       "2020-07-06    719664  20159    439934\n",
       "2020-07-07    742417  20642    456831\n",
       "2020-07-08    767296  21129    476378\n",
       "2020-07-09    793802  21604    495513\n",
       "\n",
       "[170 rows x 3 columns]"
      ]
     },
     "execution_count": 18,
     "metadata": {},
     "output_type": "execute_result"
    }
   ],
   "source": [
    "train"
   ]
  },
  {
   "cell_type": "code",
   "execution_count": 19,
   "id": "6608749a",
   "metadata": {},
   "outputs": [
    {
     "data": {
      "text/html": [
       "<div>\n",
       "<style scoped>\n",
       "    .dataframe tbody tr th:only-of-type {\n",
       "        vertical-align: middle;\n",
       "    }\n",
       "\n",
       "    .dataframe tbody tr th {\n",
       "        vertical-align: top;\n",
       "    }\n",
       "\n",
       "    .dataframe thead th {\n",
       "        text-align: right;\n",
       "    }\n",
       "</style>\n",
       "<table border=\"1\" class=\"dataframe\">\n",
       "  <thead>\n",
       "    <tr style=\"text-align: right;\">\n",
       "      <th></th>\n",
       "      <th>Confirmed</th>\n",
       "      <th>Deaths</th>\n",
       "      <th>Recovered</th>\n",
       "    </tr>\n",
       "  </thead>\n",
       "  <tbody>\n",
       "    <tr>\n",
       "      <th>2020-07-10</th>\n",
       "      <td>820916</td>\n",
       "      <td>22123</td>\n",
       "      <td>515386</td>\n",
       "    </tr>\n",
       "    <tr>\n",
       "      <th>2020-07-11</th>\n",
       "      <td>849522</td>\n",
       "      <td>22673</td>\n",
       "      <td>534618</td>\n",
       "    </tr>\n",
       "    <tr>\n",
       "      <th>2020-07-12</th>\n",
       "      <td>878254</td>\n",
       "      <td>23174</td>\n",
       "      <td>553471</td>\n",
       "    </tr>\n",
       "    <tr>\n",
       "      <th>2020-07-13</th>\n",
       "      <td>906752</td>\n",
       "      <td>23727</td>\n",
       "      <td>571460</td>\n",
       "    </tr>\n",
       "    <tr>\n",
       "      <th>2020-07-14</th>\n",
       "      <td>936181</td>\n",
       "      <td>24309</td>\n",
       "      <td>592032</td>\n",
       "    </tr>\n",
       "    <tr>\n",
       "      <th>...</th>\n",
       "      <td>...</td>\n",
       "      <td>...</td>\n",
       "      <td>...</td>\n",
       "    </tr>\n",
       "    <tr>\n",
       "      <th>2020-09-17</th>\n",
       "      <td>5214677</td>\n",
       "      <td>84372</td>\n",
       "      <td>4112551</td>\n",
       "    </tr>\n",
       "    <tr>\n",
       "      <th>2020-09-18</th>\n",
       "      <td>5308014</td>\n",
       "      <td>85619</td>\n",
       "      <td>4208431</td>\n",
       "    </tr>\n",
       "    <tr>\n",
       "      <th>2020-09-19</th>\n",
       "      <td>5400619</td>\n",
       "      <td>86752</td>\n",
       "      <td>4303043</td>\n",
       "    </tr>\n",
       "    <tr>\n",
       "      <th>2020-09-20</th>\n",
       "      <td>5487580</td>\n",
       "      <td>87882</td>\n",
       "      <td>4396399</td>\n",
       "    </tr>\n",
       "    <tr>\n",
       "      <th>2020-09-21</th>\n",
       "      <td>5487580</td>\n",
       "      <td>87882</td>\n",
       "      <td>4396399</td>\n",
       "    </tr>\n",
       "  </tbody>\n",
       "</table>\n",
       "<p>74 rows × 3 columns</p>\n",
       "</div>"
      ],
      "text/plain": [
       "           Confirmed Deaths Recovered\n",
       "2020-07-10    820916  22123    515386\n",
       "2020-07-11    849522  22673    534618\n",
       "2020-07-12    878254  23174    553471\n",
       "2020-07-13    906752  23727    571460\n",
       "2020-07-14    936181  24309    592032\n",
       "...              ...    ...       ...\n",
       "2020-09-17   5214677  84372   4112551\n",
       "2020-09-18   5308014  85619   4208431\n",
       "2020-09-19   5400619  86752   4303043\n",
       "2020-09-20   5487580  87882   4396399\n",
       "2020-09-21   5487580  87882   4396399\n",
       "\n",
       "[74 rows x 3 columns]"
      ]
     },
     "execution_count": 19,
     "metadata": {},
     "output_type": "execute_result"
    }
   ],
   "source": [
    "test"
   ]
  },
  {
   "cell_type": "code",
   "execution_count": 20,
   "id": "c65727ff",
   "metadata": {},
   "outputs": [],
   "source": [
    "split_point=int(0.7*len(india))\n"
   ]
  },
  {
   "cell_type": "code",
   "execution_count": 21,
   "id": "fc27a000",
   "metadata": {},
   "outputs": [
    {
     "data": {
      "image/png": "[encoded data removed]",
      "text/plain": [
       "<Figure size 640x480 with 1 Axes>"
      ]
     },
     "metadata": {},
     "output_type": "display_data"
    }
   ],
   "source": [
    "import matplotlib.pyplot as plt\n",
    "plt.figure(num=None,figsize=(8,6),dpi=80)\n",
    "plt.plot(train.Confirmed,label='Confirmed Cases Train Data')\n",
    "plt.plot(test.Confirmed,label='Confirmed Cases Test Data')\n",
    "plt.plot(train.Deaths,label='Deaths Train Data')\n",
    "plt.plot(test.Deaths,label='Deaths Test Data')\n",
    "plt.legend()\n",
    "plt.title(\"Covid-19 Confirmed Cases,Recoveries and Deaths in India\")\n",
    "plt.show()"
   ]
  },
  {
   "cell_type": "markdown",
   "id": "2b13f322",
   "metadata": {},
   "source": [
    "## Resample the data \n",
    "* In pandas, the resample() method is used to resample time-series data. \n",
    "* Resampling allows you to change the frequency of the data, either upsampling (increasing the frequency) or downsampling (decreasing the frequency). \n",
    "* It is commonly used for aggregating data over different time intervals or converting data from one frequency to another."
   ]
  },
  {
   "cell_type": "code",
   "execution_count": 22,
   "id": "76d8922a",
   "metadata": {},
   "outputs": [
    {
     "name": "stdout",
     "output_type": "stream",
     "text": [
      "            Confirmed  Deaths  Recovered\n",
      "2020-01-22          0       0          0\n",
      "2020-01-29         11       0          0\n",
      "2020-02-05         21       0          0\n",
      "2020-02-12         21       0          9\n",
      "2020-02-19         21       0         21\n",
      "2020-02-26         25       0         21\n",
      "2020-03-04        261       0         22\n",
      "2020-03-11        693      13         56\n",
      "2020-03-18       2355      43        166\n",
      "2020-03-25       6930     170        565\n",
      "2020-04-01      23867     673       1785\n",
      "2020-04-08      59830    2020       6489\n",
      "2020-04-15     112060    3656      17806\n",
      "2020-04-22     183925    5835      42226\n",
      "2020-04-29     283223    9429      77095\n",
      "2020-05-06     444062   14681     137233\n",
      "2020-05-13     638985   20307     237188\n",
      "2020-05-20     920750   27152     382859\n",
      "2020-05-27    1274960   36255     596123\n",
      "2020-06-03    1725903   48476     832062\n",
      "2020-06-10    2243635   66002    1135856\n",
      "2020-06-17    2874657   93198    1584666\n",
      "2020-06-24    3701957  112743    2167385\n",
      "2020-07-01    4711159  134464    2864260\n",
      "2020-07-08    1561098   42733     971891\n"
     ]
    }
   ],
   "source": [
    "# Resample the data to weekly interval\n",
    "resample=train.resample('7D')\n",
    "weekly=resample.sum()\n",
    "print(weekly)"
   ]
  },
  {
   "cell_type": "code",
   "execution_count": 23,
   "id": "eef6c25b",
   "metadata": {},
   "outputs": [
    {
     "name": "stdout",
     "output_type": "stream",
     "text": [
      "            Confirmed  Deaths  Recovered\n",
      "2020-01-31          2       0          0\n",
      "2020-02-29         84       0         42\n",
      "2020-03-31      10252     226        818\n",
      "2020-04-30     447607   14417      85811\n",
      "2020-05-31    3088494   94154    1216954\n",
      "2020-06-30   10951713  331856    5916008\n",
      "2020-07-31    6272257  177197    3836151\n"
     ]
    }
   ],
   "source": [
    "# Resample the data to monthly interval\n",
    "resample=train.resample('1M')\n",
    "monthly=resample.sum()\n",
    "print(monthly)"
   ]
  },
  {
   "cell_type": "markdown",
   "id": "f92f249e",
   "metadata": {},
   "source": [
    "## Decompose \n",
    "* Decomposition in time series refers to breaking down a time series into its individual components, typically trend, seasonality, and residual (or noise). \n",
    "* This process is useful for understanding the underlying patterns and structures in the data, which can help in forecasting and making informed decisions.\n",
    "\n",
    "* In Python, you can use the seasonal_decompose function from the statsmodels library to decompose a time series"
   ]
  },
  {
   "cell_type": "markdown",
   "id": "eb07c8b3",
   "metadata": {},
   "source": [
    "#### Decompose  the monthly time-series to its components using statementslibrary."
   ]
  },
  {
   "cell_type": "code",
   "execution_count": 24,
   "id": "97bd5c0d",
   "metadata": {},
   "outputs": [
    {
     "data": {
      "image/png": "[encoded data removed]",
      "text/plain": [
       "<Figure size 640x480 with 4 Axes>"
      ]
     },
     "metadata": {},
     "output_type": "display_data"
    }
   ],
   "source": [
    "from statsmodels.tsa.seasonal import seasonal_decompose\n",
    "\n",
    "result = seasonal_decompose(monthly.Confirmed, period = 1 ,model=\"multiplicative\")\n",
    "result.plot()\n",
    "plt.show();"
   ]
  },
  {
   "cell_type": "markdown",
   "id": "c25e101a",
   "metadata": {},
   "source": [
    "## Insights\n",
    "* From the decomposition of the time series, we can make the following observations for each component:\n",
    "\n",
    "**Trend:**\n",
    "* The trend component captures the long-term movement or direction in the time series.\n",
    "* In the plot of the trend component, we see a gradual increase over time. This indicates that the time series has an upward trend, suggesting that the values are generally increasing as time progresses.\n",
    "\n",
    "**Seasonality:**\n",
    "* The seasonality component captures the periodic fluctuations that repeat at regular intervals.\n",
    "* In the plot of the seasonality component, we observe a sinusoidal pattern with a period of approximately 365 days. This indicates that there is a yearly seasonality in the time series, with values oscillating in a predictable manner over the course of a year.\n",
    "\n",
    "**Residual (Noise):**\n",
    "\n",
    "* The residual component represents the random variation or noise in the time series that cannot be explained by the trend and seasonality.\n",
    "* In the plot of the residual component, we see fluctuations around zero with no clear pattern. This indicates that most of the systematic patterns in the original time series have been accounted for by the trend and seasonality components, and the remaining variations are random noise\n"
   ]
  },
  {
   "cell_type": "code",
   "execution_count": 25,
   "id": "c250e03b",
   "metadata": {},
   "outputs": [
    {
     "name": "stdout",
     "output_type": "stream",
     "text": [
      "<statsmodels.tsa.seasonal.DecomposeResult object at 0x0000017061F47370>\n"
     ]
    },
    {
     "data": {
      "image/png": "[encoded data removed]",
      "text/plain": [
       "<Figure size 640x480 with 4 Axes>"
      ]
     },
     "metadata": {},
     "output_type": "display_data"
    }
   ],
   "source": [
    "result=seasonal_decompose(weekly.Confirmed,period=7,model='additive')\n",
    "print(result)\n",
    "result.plot()\n",
    "plt.show();"
   ]
  },
  {
   "cell_type": "markdown",
   "id": "7e80f6c5",
   "metadata": {},
   "source": [
    "### Convert the dataframe columns into int to eliminate any other datatypes"
   ]
  },
  {
   "cell_type": "code",
   "execution_count": 26,
   "id": "5e7f8a10",
   "metadata": {},
   "outputs": [],
   "source": [
    "train.Confirmed=pd.to_numeric(train.Confirmed)\n",
    "train.Deaths=pd.to_numeric(train.Deaths)\n",
    "train.Recovered=pd.to_numeric(train.Recovered)\n",
    "test.Confirmed=pd.to_numeric(test.Confirmed)\n",
    "train.Deaths=pd.to_numeric(test.Deaths)\n",
    "test.Recovered=pd.to_numeric(test.Recovered)"
   ]
  },
  {
   "cell_type": "code",
   "execution_count": 27,
   "id": "8ddee3c8",
   "metadata": {},
   "outputs": [
    {
     "data": {
      "text/plain": [
       "(170,)"
      ]
     },
     "execution_count": 27,
     "metadata": {},
     "output_type": "execute_result"
    }
   ],
   "source": [
    "train.Confirmed.shape"
   ]
  },
  {
   "cell_type": "code",
   "execution_count": 28,
   "id": "02210322",
   "metadata": {},
   "outputs": [
    {
     "data": {
      "text/plain": [
       "(74,)"
      ]
     },
     "execution_count": 28,
     "metadata": {},
     "output_type": "execute_result"
    }
   ],
   "source": [
    "test.Confirmed.shape"
   ]
  },
  {
   "cell_type": "code",
   "execution_count": 29,
   "id": "5096a5f2",
   "metadata": {},
   "outputs": [
    {
     "data": {
      "image/png": "[encoded data removed]",
      "text/plain": [
       "<Figure size 640x480 with 4 Axes>"
      ]
     },
     "metadata": {},
     "output_type": "display_data"
    }
   ],
   "source": [
    "#Decompose the Covid-19 time series\n",
    "X=train.Recovered[120:]\n",
    "result=seasonal_decompose(X,period=1,model='multiplicative')\n",
    "result.plot()\n",
    "plt.show();"
   ]
  },
  {
   "cell_type": "markdown",
   "id": "9c8a980a",
   "metadata": {},
   "source": [
    "## Augmented Dickey-Fuller\n",
    "\n",
    "* The Augmented Dickey-Fuller (ADF) test is a statistical test commonly used to determine whether a time series is stationary or non-stationary. \n",
    "* Stationarity is an important assumption in many time series models and analysis techniques.\n",
    "\n",
    "* In Python, you can perform the ADF test using the adfuller() function from the statsmodels.tsa.stattools module. \n",
    "\n",
    "**The ADF test returns a test statistic and a p-value. The interpretation of the ADF test depends on the p-value:**\n",
    "\n",
    "* If the p-value is less than a chosen significance level (e.g., 0.05), then we can reject the null hypothesis (H0) and conclude that the time series is stationary.\n",
    "* If the p-value is greater than or equal to the significance level, then we fail to reject the null hypothesis and conclude that the time series is non-stationary.\n",
    "* It's important to note that the ADF test assumes the null hypothesis that the time series is non-stationary. Thus, a low p-value indicates evidence against the null hypothesis, suggesting stationarity."
   ]
  },
  {
   "cell_type": "code",
   "execution_count": 30,
   "id": "e996a1b1",
   "metadata": {},
   "outputs": [
    {
     "name": "stdout",
     "output_type": "stream",
     "text": [
      "ADF Statistic:0.026931 \n",
      "p-value:0.960703 \n",
      "Critical Values:\n",
      "\t1%:-3.473\n",
      "\t5%:-2.880\n",
      "\t10%:-2.577\n"
     ]
    }
   ],
   "source": [
    "from statsmodels.tsa.stattools import adfuller\n",
    "\n",
    "X=train.Confirmed\n",
    "result=adfuller(X)\n",
    "print('ADF Statistic:%f '%result[0])\n",
    "print('p-value:%f '%result[1])\n",
    "print('Critical Values:')\n",
    "for key,value in result[4].items():\n",
    "    print('\\t%s:%.3f'%(key,value))"
   ]
  },
  {
   "cell_type": "markdown",
   "id": "eda55c3a",
   "metadata": {},
   "source": [
    "**If the p-value is greater than or equal to the significance level, then we fail to reject the null hypothesis and conclude that the time series is non-stationary.**"
   ]
  },
  {
   "cell_type": "markdown",
   "id": "b92698f2",
   "metadata": {},
   "source": [
    "## Kwiatkowski-Phillips-Schmidt-Shin\n",
    "* The Kwiatkowski-Phillips-Schmidt-Shin (KPSS) test is another statistical test used for testing the stationarity of a time series. It complements the Augmented Dickey-Fuller (ADF) test, which was described earlier.\n",
    "\n",
    "* While the ADF test tests the null hypothesis that a time series is non-stationary, the KPSS test does the opposite: it tests the null hypothesis that a time series is stationary around a deterministic trend. In other words, the KPSS test checks for the presence of a unit root (non-stationarity) against the null hypothesis of trend stationarity.\n",
    "\n",
    "* In Python, you can perform the KPSS test using the kpss() function from the statsmodels.tsa.stattools module"
   ]
  },
  {
   "cell_type": "code",
   "execution_count": 31,
   "id": "5ef3f43b",
   "metadata": {},
   "outputs": [],
   "source": [
    "import warnings\n",
    "warnings.filterwarnings(\"ignore\")"
   ]
  },
  {
   "cell_type": "code",
   "execution_count": 32,
   "id": "86312ec5",
   "metadata": {},
   "outputs": [
    {
     "name": "stdout",
     "output_type": "stream",
     "text": [
      "KPSS Statistic:1.659488067662081\n",
      "p-value:0.01\n",
      "num lags:10\n",
      "Critial Values:\n",
      " 10%0.347\n",
      " 5%0.463\n",
      " 2.5%0.574\n",
      " 1%0.739\n",
      "Result:The series is not stationary\n"
     ]
    }
   ],
   "source": [
    "from statsmodels.tsa.stattools import kpss\n",
    "statistic,p_value,n_lags,critical_values=kpss(india.Confirmed)\n",
    "print(f'KPSS Statistic:{statistic}')\n",
    "print(f'p-value:{p_value}')\n",
    "print(f'num lags:{n_lags}')\n",
    "print('Critial Values:')\n",
    "for key,value in critical_values.items():\n",
    "    print(f' {key}{value}')\n",
    "print(f'Result:The series is {\"not\" if p_value < 0.05 else\"\"} stationary')"
   ]
  },
  {
   "cell_type": "markdown",
   "id": "216dacaf",
   "metadata": {},
   "source": [
    "#### Time-series Modelling and validation"
   ]
  },
  {
   "cell_type": "code",
   "execution_count": 33,
   "id": "39f3f772",
   "metadata": {},
   "outputs": [],
   "source": [
    "#Prediction is mean of historical data of COVID-19 deaths\n",
    "\n",
    "pred=train.Confirmed.mean()\n",
    "\n",
    "#For single trdin-test split the prediction will be same for all the test points\n",
    "\n",
    "prediction=[pred]*len(test)\n",
    "\n",
    "#Add predictions asacolumn in test\n",
    "\n",
    "test['Prediction']=prediction"
   ]
  },
  {
   "cell_type": "code",
   "execution_count": 34,
   "id": "267bbd61",
   "metadata": {},
   "outputs": [
    {
     "name": "stdout",
     "output_type": "stream",
     "text": [
      "3024765.6095847026\n"
     ]
    }
   ],
   "source": [
    "#Calculating the RMSE between actual values and prediction\n",
    "from sklearn import metrics\n",
    "from math import sqrt\n",
    "error=sqrt(metrics.mean_squared_error(test.Confirmed,test.Prediction))\n",
    "print(error)"
   ]
  },
  {
   "cell_type": "code",
   "execution_count": 35,
   "id": "0986fefb",
   "metadata": {},
   "outputs": [
    {
     "data": {
      "image/png": "[encoded data removed]",
      "text/plain": [
       "<Figure size 640x480 with 1 Axes>"
      ]
     },
     "metadata": {},
     "output_type": "display_data"
    }
   ],
   "source": [
    "#Visualize the test data and naive average method predictions using matplotlib\n",
    "import matplotlib.pyplot as plt\n",
    "                         \n",
    "plt.figure(num=None,figsize=(8,6),dpi=80)\n",
    "plt.plot(test.Confirmed,label=\"Test Data\")\n",
    "plt.plot(test.Prediction,label=\"Predicted Data\")\n",
    "plt.legend()\n",
    "plt.title('COVID-19 Actual and Predicted Confirmed using Average Naive Approach')\n",
    "plt.show()"
   ]
  },
  {
   "cell_type": "markdown",
   "id": "631f5e02",
   "metadata": {},
   "source": [
    "**when we make a train test split and make out of sample prediction for a large prediction horizon,the error tends to accumulate**"
   ]
  },
  {
   "cell_type": "markdown",
   "id": "898fa118",
   "metadata": {},
   "source": [
    "#### Walk-Forward Validation\n",
    "* Walk-Forward Validation, also known as Rolling Forecast or Rolling Window Validation, is a common method for validating the performance of time series models. Unlike cross-validation techniques used in typical machine learning tasks, walk-forward validation respects the temporal order of the data and mimics the real-world scenario of making sequential predictions."
   ]
  },
  {
   "cell_type": "code",
   "execution_count": 36,
   "id": "226b4c29",
   "metadata": {},
   "outputs": [],
   "source": [
    "# Walk - forward validation for average naive method\n",
    "import numpy as np\n",
    "\n",
    "pred_wf = []\n",
    "X = train.Confirmed.values\n",
    "\n",
    "# For every element in test , make a prediction , append the test point to training set and Loop ahead\n",
    "for i in test.Confirmed :\n",
    "    pred = X.mean() \n",
    "    pred_wf.append (pred)\n",
    "    X = np.append (X ,i)"
   ]
  },
  {
   "cell_type": "code",
   "execution_count": 37,
   "id": "76730648",
   "metadata": {},
   "outputs": [],
   "source": [
    "# add the walk forward prediction as a column in test data\n",
    "test['pred_wf'] = pred_wf"
   ]
  },
  {
   "cell_type": "code",
   "execution_count": 38,
   "id": "6474e1d1",
   "metadata": {},
   "outputs": [
    {
     "data": {
      "text/plain": [
       "[122178.87647058823,\n",
       " 126265.05847953216,\n",
       " 130470.04069767441,\n",
       " 134792.49132947976,\n",
       " 139229.04022988505,\n",
       " 143783.05142857143,\n",
       " 148470.9715909091,\n",
       " 153303.5197740113,\n",
       " 158279.81460674157,\n",
       " 163416.69273743016,\n",
       " 168721.07777777777,\n",
       " 174172.0,\n",
       " 179770.38461538462,\n",
       " 185557.42076502732,\n",
       " 191549.54347826086,\n",
       " 197741.2972972973,\n",
       " 204127.82258064515,\n",
       " 210713.32085561496,\n",
       " 217465.2340425532,\n",
       " 224418.69312169313,\n",
       " 231563.66315789474,\n",
       " 238910.16753926701,\n",
       " 246499.11458333334,\n",
       " 254293.0207253886,\n",
       " 262279.6288659794,\n",
       " 270451.24615384615,\n",
       " 278807.38265306124,\n",
       " 287364.3807106599,\n",
       " 296150.79292929295,\n",
       " 305158.13065326633,\n",
       " 314397.39,\n",
       " 323853.49253731343,\n",
       " 333481.32178217825,\n",
       " 343314.60591133,\n",
       " 353379.9117647059,\n",
       " 363661.9121951219,\n",
       " 374158.32038834953,\n",
       " 384862.6376811594,\n",
       " 395741.48557692306,\n",
       " 406779.4736842105,\n",
       " 418019.82380952383,\n",
       " 429483.82938388624,\n",
       " 441164.68396226416,\n",
       " 453063.91549295775,\n",
       " 465175.4859813084,\n",
       " 477460.0093023256,\n",
       " 489913.0787037037,\n",
       " 502515.0783410138,\n",
       " 515394.5229357798,\n",
       " 528509.1598173516,\n",
       " 541852.1727272727,\n",
       " 555430.8190045248,\n",
       " 569240.7927927928,\n",
       " 583240.4573991031,\n",
       " 597464.9330357143,\n",
       " 611935.7822222222,\n",
       " 626647.3362831859,\n",
       " 641610.0308370044,\n",
       " 656838.9824561403,\n",
       " 672331.4454148471,\n",
       " 688018.7956521739,\n",
       " 703958.6623376623,\n",
       " 720173.7672413794,\n",
       " 736664.0686695279,\n",
       " 753430.3931623931,\n",
       " 770455.6085106384,\n",
       " 787726.6737288135,\n",
       " 805205.6160337552,\n",
       " 822916.3445378151,\n",
       " 840888.4644351464,\n",
       " 859112.5833333334,\n",
       " 877572.755186722,\n",
       " 896263.0289256198,\n",
       " 915157.3374485597]"
      ]
     },
     "execution_count": 38,
     "metadata": {},
     "output_type": "execute_result"
    }
   ],
   "source": [
    "pred_wf"
   ]
  },
  {
   "cell_type": "code",
   "execution_count": 39,
   "id": "181a9812",
   "metadata": {},
   "outputs": [
    {
     "name": "stdout",
     "output_type": "stream",
     "text": [
      "2647251.917004717\n"
     ]
    }
   ],
   "source": [
    "# Calculate RMSE for walk forward validation using average naive method\n",
    "error = sqrt ( metrics.mean_squared_error ( test.Confirmed ,test.pred_wf)) \n",
    "print ( error )"
   ]
  },
  {
   "cell_type": "code",
   "execution_count": 40,
   "id": "2b10c98b",
   "metadata": {},
   "outputs": [
    {
     "data": {
      "image/png": "[encoded data removed]",
      "text/plain": [
       "<Figure size 640x480 with 1 Axes>"
      ]
     },
     "metadata": {},
     "output_type": "display_data"
    }
   ],
   "source": [
    "# Plot the actual and predicted values\n",
    "\n",
    "plt.figure(num=None, figsize=(8, 6), dpi=80)\n",
    "\n",
    "plt.plot(test.Confirmed, label=\"Test Data\")\n",
    "\n",
    "plt.plot(test.pred_wf, label= \"Predicted Data\")\n",
    "\n",
    "plt. legend()\n",
    "\n",
    "plt.title('COVID-19 Actual and Predicted Confirmed cases using Average Naive Approach with Walk Forward Validation' )\n",
    "plt.show()\n",
    "\n",
    " "
   ]
  },
  {
   "cell_type": "markdown",
   "id": "a6624fc4",
   "metadata": {},
   "source": [
    "**We can observe from the error values and the plots that the walk forward validation reveals better results.**\n",
    "\n",
    "**Lets look at another naive approch ie. Navie method before moving on to statistical modeling approaches.**"
   ]
  },
  {
   "cell_type": "code",
   "execution_count": 41,
   "id": "5db3b82a",
   "metadata": {},
   "outputs": [],
   "source": [
    "1 # Prediction is the Last observed value of historical data of COVID-19 Confirmed cases\n",
    "pred = train.Confirmed[-1]\n",
    "\n",
    "# For single train-test split the prediction will be same for all the test points\n",
    "prediction = [pred]*len(test)\n",
    "\n",
    "# Add predictions as a column in test\n",
    "\n",
    "test[ 'Prediction_NM'] = prediction "
   ]
  },
  {
   "cell_type": "code",
   "execution_count": 42,
   "id": "d1b77606",
   "metadata": {},
   "outputs": [
    {
     "name": "stdout",
     "output_type": "stream",
     "text": [
      "2450534.4932774827\n"
     ]
    }
   ],
   "source": [
    " # Calculate the error between actual value and predicted value\n",
    "error = sqrt(metrics.mean_squared_error(test .Confirmed, test .Prediction_NM))\n",
    "print (error)"
   ]
  },
  {
   "cell_type": "code",
   "execution_count": 43,
   "id": "4c3019b8",
   "metadata": {},
   "outputs": [
    {
     "data": {
      "image/png": "[encoded data removed]",
      "text/plain": [
       "<Figure size 640x480 with 1 Axes>"
      ]
     },
     "metadata": {},
     "output_type": "display_data"
    }
   ],
   "source": [
    "# Visualize the test data and naive method predictions using matpLotlib\n",
    "import matplotlib.pyplot as plt\n",
    "\n",
    "plt.figure(num=None, figsize=(8, 6), dpi=80)\n",
    "\n",
    "plt.plot(test.Confirmed, label=\"Test Confirmed Cases\")\n",
    "plt.plot(test.Prediction_NM, label=\"Predicted Data\")\n",
    "\n",
    "plt. legend()\n",
    "\n",
    "plt.title('COVID-19 Actual and Predicted Confirmed cases using Naive method' )\n",
    "plt.show()"
   ]
  },
  {
   "cell_type": "markdown",
   "id": "704c3334",
   "metadata": {},
   "source": [
    "**Let's use the Naive approach with walk-forward validation.**"
   ]
  },
  {
   "cell_type": "code",
   "execution_count": 44,
   "id": "5221681a",
   "metadata": {},
   "outputs": [],
   "source": [
    "pred_nm_wf = []\n",
    "X = train.Confirmed.values\n",
    "\n",
    "# For every element in test, make a prediction, append the test point to training set and Loop ahead\n",
    "for i in test.Confirmed:\n",
    "\n",
    "    pred = X[-1]\n",
    "\n",
    "    pred_nm_wf.append(pred)\n",
    "\n",
    "    X = np.append(X, i)"
   ]
  },
  {
   "cell_type": "code",
   "execution_count": 45,
   "id": "06fbc26d",
   "metadata": {},
   "outputs": [],
   "source": [
    "# Add the walk forward prediction as a column in test data\n",
    "test['pred_nm_wf'] = pred_nm_wf"
   ]
  },
  {
   "cell_type": "code",
   "execution_count": 46,
   "id": "698c14ec",
   "metadata": {},
   "outputs": [
    {
     "data": {
      "image/png": "[encoded data removed]",
      "text/plain": [
       "<Figure size 640x480 with 1 Axes>"
      ]
     },
     "metadata": {},
     "output_type": "display_data"
    }
   ],
   "source": [
    "# Visualize the test data and naive method predictions using matplotlib\n",
    "import matplotlib.pyplot as plt\n",
    "\n",
    "plt.figure(num=None, figsize=(8, 6), dpi=80)\n",
    "\n",
    "plt.plot (test.Confirmed, label=\"Test Data\")\n",
    "\n",
    "plt.plot(test.pred_nm_wf, label=\"Predicted Data\")\n",
    "\n",
    "plt. legend(),\n",
    "\n",
    "plt.title('COVID-19 Actual and Predicted Confirmed cases using Naive method')\n",
    "plt.show()"
   ]
  },
  {
   "cell_type": "markdown",
   "id": "1bdabd06",
   "metadata": {},
   "source": [
    "## Autocorrelation Plot\n",
    "\n",
    "* An autocorrelation plot, also known as a correlogram, is a graphical tool used to visualize the autocorrelation of a time series. \n",
    "* Autocorrelation measures the relationship between a time series and its lagged values. \n",
    "* In other words, it shows how well the present values are correlated with past values at different lags.\n",
    "\n",
    "* In Python, you can create an autocorrelation plot using the plot_acf function from the statsmodels.graphics.tsaplots module"
   ]
  },
  {
   "cell_type": "code",
   "execution_count": 47,
   "id": "03a31e28",
   "metadata": {},
   "outputs": [
    {
     "data": {
      "image/png": "[encoded data removed]",
      "text/plain": [
       "<Figure size 640x480 with 1 Axes>"
      ]
     },
     "metadata": {},
     "output_type": "display_data"
    }
   ],
   "source": [
    "# Plot Autocorrelation Plot\n",
    "from statsmodels.graphics.tsaplots import plot_acf\n",
    "plot_acf ( train.Confirmed.diff ( ) . diff ( ) . dropna ( ) , lags = 14 )\n",
    "plt.show ( )"
   ]
  },
  {
   "cell_type": "code",
   "execution_count": 48,
   "id": "4821c1b9",
   "metadata": {},
   "outputs": [
    {
     "data": {
      "image/png": "[encoded data removed]",
      "text/plain": [
       "<Figure size 640x480 with 1 Axes>"
      ]
     },
     "metadata": {},
     "output_type": "display_data"
    }
   ],
   "source": [
    "#Plot Partial Autocorrelation Plot\n",
    "from statsmodels.graphics.tsaplots import plot_pacf\n",
    "plot_pacf ( train.Confirmed.diff( ).diff( ).dropna( ) )\n",
    "plt.show ( )\n"
   ]
  },
  {
   "cell_type": "markdown",
   "id": "2f62b71a",
   "metadata": {},
   "source": [
    "#### Auto - Regressive Integrated Moving Average ( ARIMA ) Model"
   ]
  },
  {
   "cell_type": "markdown",
   "id": "c25fee53",
   "metadata": {},
   "source": [
    "ARIMA model is the most popular statistical model for time - series modelling and forecasting , it is a combination of an auto - regressive model and a moving average model on stationary data .\n",
    "\n",
    "**Auto - regressive model ( AR ) :**\n",
    "* A model that uses the dependent relationship between an observation and some number of lagged observations . In other words , an auto regression models sees the value of a variable at time ' t ' as a linear function of it's values ' p ' time steps preceeding it .\n",
    "\n",
    "**Integrated :**\n",
    "* The use of differencing of raw observations ( e.g. subtracting an observation from an observation at the previous time step ) in order to make the time series stationary .\n",
    "\n",
    "**Moving - Average Model ( MA ) :**\n",
    "* A model that uses the dependency between an observation and a residual error from a moving average model applied to lagged observations . In other words , a moving average model sees the value of a variable at time ' t ' as a linear function of residual errors from ' q ' time steps preceding it . The residual error is calculated by comparing the value at the time ' t ' to moving average of the values preceding .\n",
    "\n",
    "* Each of these components are explicitly specified in the model as a parameter . A standard notation is used of ARIMA ( p.d.q ) where the parameters are substituted with integer values to quickly indicate the specific ARIMA model being used .\n",
    "\n",
    "**The parameters of the ARIMA model are defined as follows :**\n",
    "\n",
    "* p : The number of lag observations included in the model , also called the lag order .\n",
    "\n",
    "* d : The number of times that the raw observations are differenced , also called the degree of differencing .\n",
    "\n",
    "* q : The size of the moving average window , also called the order of moving average .\n",
    "\n",
    "**Seasonal ARIMA :** \n",
    "* This is an extension of ARIMA model to deal with seasonal data . It divides the data into seasonal and non - seasonal components and models them in a similar fashion . It is characterized by 7 parameters , for non - seasonal or trend part ( p.d.q ) parameters same as for ARIMA model and for seasonal part ( P , D , Q , m ) parameters where ' m ' is the number of seasonal periods and P , D , Q are similar to parameters of ARIMA model ."
   ]
  },
  {
   "cell_type": "code",
   "execution_count": 49,
   "id": "666f0ec9",
   "metadata": {},
   "outputs": [
    {
     "name": "stdout",
     "output_type": "stream",
     "text": [
      "                                     SARIMAX Results                                     \n",
      "=========================================================================================\n",
      "Dep. Variable:                         Confirmed   No. Observations:                  170\n",
      "Model:             SARIMAX(1, 2, 1)x(1, 2, 1, 7)   Log Likelihood               -1193.564\n",
      "Date:                           Wed, 19 Jul 2023   AIC                           2397.128\n",
      "Time:                                   20:11:09   BIC                           2412.312\n",
      "Sample:                               01-22-2020   HQIC                          2403.296\n",
      "                                    - 07-09-2020                                         \n",
      "Covariance Type:                             opg                                         \n",
      "==============================================================================\n",
      "                 coef    std err          z      P>|z|      [0.025      0.975]\n",
      "------------------------------------------------------------------------------\n",
      "ar.L1         -0.0332      0.137     -0.243      0.808      -0.301       0.234\n",
      "ma.L1         -0.5205      0.116     -4.476      0.000      -0.748      -0.293\n",
      "ar.S.L7       -0.4048      0.057     -7.129      0.000      -0.516      -0.294\n",
      "ma.S.L7       -0.9983      2.648     -0.377      0.706      -6.189       4.193\n",
      "sigma2      2.767e+05   7.26e+05      0.381      0.703   -1.15e+06     1.7e+06\n",
      "===================================================================================\n",
      "Ljung-Box (L1) (Q):                   0.03   Jarque-Bera (JB):                24.52\n",
      "Prob(Q):                              0.86   Prob(JB):                         0.00\n",
      "Heteroskedasticity (H):            1452.08   Skew:                             0.08\n",
      "Prob(H) (two-sided):                  0.00   Kurtosis:                         4.95\n",
      "===================================================================================\n",
      "\n",
      "Warnings:\n",
      "[1] Covariance matrix calculated using the outer product of gradients (complex-step).\n"
     ]
    }
   ],
   "source": [
    "# fit the SARIMA Model\n",
    "from statsmodels.tsa.statespace.sarimax import SARIMAX\n",
    "model = SARIMAX  ( train.Confirmed ,order = ( 1,2,1 ) , seasonal_order = ( 1,2,1,7 ) )\n",
    "model_fit = model.fit ( )\n",
    "# summary of fit model\n",
    "print(model_fit.summary())"
   ]
  },
  {
   "cell_type": "markdown",
   "id": "01f88387",
   "metadata": {},
   "source": [
    "In the summary of the model , you should look at a few important parameters that help you understand how good is your model and compare is to other models . \n",
    "* Log Likelihood : This value on its own is quite meaningless , but it can be helpful if you compare multiple models to each other . Generally speaking , the higher the log - likelihood , the better . However , it should not be the only guiding metric for comparing your models . \n",
    "* Akaike's Information Criterion ( AIC ) : It is a metric that helps you evaluate the strength of your model . Since adding more parameters to your model will always increase your value of the maximum likelihood , the AIC balances this by penalizing for the number of parameters , hence searching for models with few parameters but fitting the data well . Looking at the models with the lowest AIC is a good way to select to best one ! The lower this value is the better the model is performing.\n",
    "\n",
    "* Bayesian Information Criterion ( BIC ) : It is very similar to AIC , but also considers the number of rows in your dataset . Again , the lower your BIC , the betteryour model works . BIC induce a higher penalization for models with complicated parameters compared to AIC .\n",
    "\n",
    "* Hannan - Quinn Information Criterion ( HQIC ) : It can also be used for feature selection , but is less frequently used .\n",
    "\n",
    "**We also get a summary of model parameters :**\n",
    "* Coefficient : It represents the significance of each feature . \n",
    "* Standard Error : It is the estimate of the error of the predicted value . It tells you how strong is the effect of the residual error on your estimated parameters . \n",
    "* z It is equal to the values of ' coef divided by ' std err ' . It is thus the standardised coefficient .\n",
    "\n",
    "* P > | z ] : It is the p - value of the coefficient . It is really important to check these p - values before you continue using the model . If any of these values are higher than your given threshold ( usually 0.05 ) , you might be using an unreliable coefficient that might cause misleading results . • [ 0.025 0.975 ] : It represents the confidence intervals ."
   ]
  },
  {
   "cell_type": "code",
   "execution_count": 50,
   "id": "e688965d",
   "metadata": {},
   "outputs": [],
   "source": [
    "# Perform out - of - sample predictions for the entire test data\n",
    "forecast= model_fit.predict ( start = train.Confirmed.shape[0],end = train.Confirmed.shape[0]+len(test)-1)"
   ]
  },
  {
   "cell_type": "code",
   "execution_count": 51,
   "id": "f59a5461",
   "metadata": {},
   "outputs": [
    {
     "name": "stdout",
     "output_type": "stream",
     "text": [
      "353876.26536452246\n"
     ]
    }
   ],
   "source": [
    "# Calculate the error between actual and predicted values\n",
    "error = sqrt ( metrics.mean_squared_error ( test.Confirmed , forecast ) )\n",
    "print ( error )"
   ]
  },
  {
   "cell_type": "code",
   "execution_count": 52,
   "id": "4b99675f",
   "metadata": {},
   "outputs": [
    {
     "data": {
      "image/png": "[encoded data removed]",
      "text/plain": [
       "<Figure size 640x480 with 1 Axes>"
      ]
     },
     "metadata": {},
     "output_type": "display_data"
    }
   ],
   "source": [
    "# Plot the actual and predicted values for COVID - 19 related Confirmed cases\n",
    "plt.figure ( num=None ,figsize = ( 8 , 6 ) , dpi = 80 )\n",
    "plt.plot ( test.Confirmed ,label = \" Test Data \" )\n",
    "plt.plot ( forecast , label = \" Predicted Data \" )\n",
    "plt.legend ( )\n",
    "plt.title ( ' COVID - 19 Actual and Predicted Confirmed cases using SARIMA model ' )\n",
    "plt.show ( )"
   ]
  },
  {
   "cell_type": "code",
   "execution_count": 53,
   "id": "02419f4c",
   "metadata": {},
   "outputs": [],
   "source": [
    "# Perform out - of - sample predictions using walk forward validation\n",
    "pred_ARIMA = [ ]\n",
    "X = train.Confirmed.values\n",
    "                                               \n",
    "# For every element in test , make a prediction , append the test point to training set and Loop ahead\n",
    "for i in test.Confirmed :\n",
    "    model_fit = SARIMAX ( X , order = ( 1,1,1 ) ) . fit ( )\n",
    "    pred=model_fit.forecast ( )\n",
    "    pred_ARIMA.append ( pred )\n",
    "    X = np.append ( X , i )"
   ]
  },
  {
   "cell_type": "code",
   "execution_count": 54,
   "id": "f860f6d9",
   "metadata": {},
   "outputs": [
    {
     "data": {
      "text/html": [
       "<div>\n",
       "<style scoped>\n",
       "    .dataframe tbody tr th:only-of-type {\n",
       "        vertical-align: middle;\n",
       "    }\n",
       "\n",
       "    .dataframe tbody tr th {\n",
       "        vertical-align: top;\n",
       "    }\n",
       "\n",
       "    .dataframe thead th {\n",
       "        text-align: right;\n",
       "    }\n",
       "</style>\n",
       "<table border=\"1\" class=\"dataframe\">\n",
       "  <thead>\n",
       "    <tr style=\"text-align: right;\">\n",
       "      <th></th>\n",
       "      <th>Confirmed</th>\n",
       "      <th>Deaths</th>\n",
       "      <th>Recovered</th>\n",
       "      <th>Prediction</th>\n",
       "      <th>pred_wf</th>\n",
       "      <th>Prediction_NM</th>\n",
       "      <th>pred_nm_wf</th>\n",
       "      <th>pred_ARIMA</th>\n",
       "    </tr>\n",
       "  </thead>\n",
       "  <tbody>\n",
       "    <tr>\n",
       "      <th>2020-07-10</th>\n",
       "      <td>820916</td>\n",
       "      <td>22123</td>\n",
       "      <td>515386</td>\n",
       "      <td>122178.876471</td>\n",
       "      <td>122178.876471</td>\n",
       "      <td>793802</td>\n",
       "      <td>793802</td>\n",
       "      <td>[820443.7130952562]</td>\n",
       "    </tr>\n",
       "    <tr>\n",
       "      <th>2020-07-11</th>\n",
       "      <td>849522</td>\n",
       "      <td>22673</td>\n",
       "      <td>534618</td>\n",
       "      <td>122178.876471</td>\n",
       "      <td>126265.058480</td>\n",
       "      <td>793802</td>\n",
       "      <td>820916</td>\n",
       "      <td>[848077.9619758743]</td>\n",
       "    </tr>\n",
       "    <tr>\n",
       "      <th>2020-07-12</th>\n",
       "      <td>878254</td>\n",
       "      <td>23174</td>\n",
       "      <td>553471</td>\n",
       "      <td>122178.876471</td>\n",
       "      <td>130470.040698</td>\n",
       "      <td>793802</td>\n",
       "      <td>849522</td>\n",
       "      <td>[878287.7357333935]</td>\n",
       "    </tr>\n",
       "    <tr>\n",
       "      <th>2020-07-13</th>\n",
       "      <td>906752</td>\n",
       "      <td>23727</td>\n",
       "      <td>571460</td>\n",
       "      <td>122178.876471</td>\n",
       "      <td>134792.491329</td>\n",
       "      <td>793802</td>\n",
       "      <td>878254</td>\n",
       "      <td>[906982.2816137191]</td>\n",
       "    </tr>\n",
       "    <tr>\n",
       "      <th>2020-07-14</th>\n",
       "      <td>936181</td>\n",
       "      <td>24309</td>\n",
       "      <td>592032</td>\n",
       "      <td>122178.876471</td>\n",
       "      <td>139229.040230</td>\n",
       "      <td>793802</td>\n",
       "      <td>906752</td>\n",
       "      <td>[935224.3513785679]</td>\n",
       "    </tr>\n",
       "    <tr>\n",
       "      <th>...</th>\n",
       "      <td>...</td>\n",
       "      <td>...</td>\n",
       "      <td>...</td>\n",
       "      <td>...</td>\n",
       "      <td>...</td>\n",
       "      <td>...</td>\n",
       "      <td>...</td>\n",
       "      <td>...</td>\n",
       "    </tr>\n",
       "    <tr>\n",
       "      <th>2020-09-17</th>\n",
       "      <td>5214677</td>\n",
       "      <td>84372</td>\n",
       "      <td>4112551</td>\n",
       "      <td>122178.876471</td>\n",
       "      <td>840888.464435</td>\n",
       "      <td>793802</td>\n",
       "      <td>5118253</td>\n",
       "      <td>[5213278.960854803]</td>\n",
       "    </tr>\n",
       "    <tr>\n",
       "      <th>2020-09-18</th>\n",
       "      <td>5308014</td>\n",
       "      <td>85619</td>\n",
       "      <td>4208431</td>\n",
       "      <td>122178.876471</td>\n",
       "      <td>859112.583333</td>\n",
       "      <td>793802</td>\n",
       "      <td>5214677</td>\n",
       "      <td>[5310680.238275304]</td>\n",
       "    </tr>\n",
       "    <tr>\n",
       "      <th>2020-09-19</th>\n",
       "      <td>5400619</td>\n",
       "      <td>86752</td>\n",
       "      <td>4303043</td>\n",
       "      <td>122178.876471</td>\n",
       "      <td>877572.755187</td>\n",
       "      <td>793802</td>\n",
       "      <td>5308014</td>\n",
       "      <td>[5402204.34603267]</td>\n",
       "    </tr>\n",
       "    <tr>\n",
       "      <th>2020-09-20</th>\n",
       "      <td>5487580</td>\n",
       "      <td>87882</td>\n",
       "      <td>4396399</td>\n",
       "      <td>122178.876471</td>\n",
       "      <td>896263.028926</td>\n",
       "      <td>793802</td>\n",
       "      <td>5400619</td>\n",
       "      <td>[5493733.44852294]</td>\n",
       "    </tr>\n",
       "    <tr>\n",
       "      <th>2020-09-21</th>\n",
       "      <td>5487580</td>\n",
       "      <td>87882</td>\n",
       "      <td>4396399</td>\n",
       "      <td>122178.876471</td>\n",
       "      <td>915157.337449</td>\n",
       "      <td>793802</td>\n",
       "      <td>5487580</td>\n",
       "      <td>[5576457.097357222]</td>\n",
       "    </tr>\n",
       "  </tbody>\n",
       "</table>\n",
       "<p>74 rows × 8 columns</p>\n",
       "</div>"
      ],
      "text/plain": [
       "            Confirmed Deaths  Recovered     Prediction        pred_wf  \\\n",
       "2020-07-10     820916  22123     515386  122178.876471  122178.876471   \n",
       "2020-07-11     849522  22673     534618  122178.876471  126265.058480   \n",
       "2020-07-12     878254  23174     553471  122178.876471  130470.040698   \n",
       "2020-07-13     906752  23727     571460  122178.876471  134792.491329   \n",
       "2020-07-14     936181  24309     592032  122178.876471  139229.040230   \n",
       "...               ...    ...        ...            ...            ...   \n",
       "2020-09-17    5214677  84372    4112551  122178.876471  840888.464435   \n",
       "2020-09-18    5308014  85619    4208431  122178.876471  859112.583333   \n",
       "2020-09-19    5400619  86752    4303043  122178.876471  877572.755187   \n",
       "2020-09-20    5487580  87882    4396399  122178.876471  896263.028926   \n",
       "2020-09-21    5487580  87882    4396399  122178.876471  915157.337449   \n",
       "\n",
       "            Prediction_NM  pred_nm_wf           pred_ARIMA  \n",
       "2020-07-10         793802      793802  [820443.7130952562]  \n",
       "2020-07-11         793802      820916  [848077.9619758743]  \n",
       "2020-07-12         793802      849522  [878287.7357333935]  \n",
       "2020-07-13         793802      878254  [906982.2816137191]  \n",
       "2020-07-14         793802      906752  [935224.3513785679]  \n",
       "...                   ...         ...                  ...  \n",
       "2020-09-17         793802     5118253  [5213278.960854803]  \n",
       "2020-09-18         793802     5214677  [5310680.238275304]  \n",
       "2020-09-19         793802     5308014   [5402204.34603267]  \n",
       "2020-09-20         793802     5400619   [5493733.44852294]  \n",
       "2020-09-21         793802     5487580  [5576457.097357222]  \n",
       "\n",
       "[74 rows x 8 columns]"
      ]
     },
     "execution_count": 54,
     "metadata": {},
     "output_type": "execute_result"
    }
   ],
   "source": [
    "# Add a column in test with prediction by SARIMA model\n",
    "test['pred_ARIMA'] = pred_ARIMA\n",
    "test"
   ]
  },
  {
   "cell_type": "code",
   "execution_count": 55,
   "id": "bfccd25f",
   "metadata": {},
   "outputs": [
    {
     "name": "stdout",
     "output_type": "stream",
     "text": [
      "11891.5759420302\n"
     ]
    }
   ],
   "source": [
    "# calculate the error between actual and predicted values\n",
    "error = sqrt (metrics.mean_squared_error(test.Confirmed,test.pred_ARIMA))\n",
    "print(error)"
   ]
  },
  {
   "cell_type": "code",
   "execution_count": 56,
   "id": "8732025a",
   "metadata": {},
   "outputs": [
    {
     "data": {
      "image/png": "[encoded data removed]",
      "text/plain": [
       "<Figure size 640x480 with 1 Axes>"
      ]
     },
     "metadata": {},
     "output_type": "display_data"
    }
   ],
   "source": [
    "# Plot actual and predicted data\n",
    "plt.figure ( num = None , figsize = ( 8 , 6 ) , dpi = 80 )\n",
    "plt.plot ( test.Confirmed , label = \" Test Data \" )\n",
    "plt.plot ( test.pred_ARIMA , 'r--' , label = \" Predicted Data \" )\n",
    "plt.legend ( )\n",
    "plt.title ( ' COVID - 19 Actual and Predicted Confirmed cases using SARIMA model and walk forward validation ' )\n",
    "plt.show ( )\n"
   ]
  },
  {
   "cell_type": "code",
   "execution_count": 57,
   "id": "48254701",
   "metadata": {},
   "outputs": [
    {
     "name": "stdout",
     "output_type": "stream",
     "text": [
      "Requirement already satisfied: pmdarima in c:\\users\\prave\\anaconda3\\lib\\site-packages (2.0.3)\n",
      "Requirement already satisfied: setuptools!=50.0.0,>=38.6.0 in c:\\users\\prave\\anaconda3\\lib\\site-packages (from pmdarima) (63.4.1)\n",
      "Requirement already satisfied: scipy>=1.3.2 in c:\\users\\prave\\anaconda3\\lib\\site-packages (from pmdarima) (1.9.1)\n",
      "Requirement already satisfied: numpy>=1.21.2 in c:\\users\\prave\\anaconda3\\lib\\site-packages (from pmdarima) (1.23.5)\n",
      "Requirement already satisfied: urllib3 in c:\\users\\prave\\anaconda3\\lib\\site-packages (from pmdarima) (1.26.11)\n",
      "Requirement already satisfied: pandas>=0.19 in c:\\users\\prave\\anaconda3\\lib\\site-packages (from pmdarima) (1.4.4)\n",
      "Requirement already satisfied: Cython!=0.29.18,!=0.29.31,>=0.29 in c:\\users\\prave\\anaconda3\\lib\\site-packages (from pmdarima) (0.29.32)\n",
      "Requirement already satisfied: joblib>=0.11 in c:\\users\\prave\\anaconda3\\lib\\site-packages (from pmdarima) (1.2.0)\n",
      "Requirement already satisfied: scikit-learn>=0.22 in c:\\users\\prave\\anaconda3\\lib\\site-packages (from pmdarima) (1.0.2)\n",
      "Requirement already satisfied: statsmodels>=0.13.2 in c:\\users\\prave\\anaconda3\\lib\\site-packages (from pmdarima) (0.13.2)\n",
      "Requirement already satisfied: python-dateutil>=2.8.1 in c:\\users\\prave\\anaconda3\\lib\\site-packages (from pandas>=0.19->pmdarima) (2.8.2)\n",
      "Requirement already satisfied: pytz>=2020.1 in c:\\users\\prave\\anaconda3\\lib\\site-packages (from pandas>=0.19->pmdarima) (2022.1)\n",
      "Requirement already satisfied: threadpoolctl>=2.0.0 in c:\\users\\prave\\anaconda3\\lib\\site-packages (from scikit-learn>=0.22->pmdarima) (2.2.0)\n",
      "Requirement already satisfied: patsy>=0.5.2 in c:\\users\\prave\\anaconda3\\lib\\site-packages (from statsmodels>=0.13.2->pmdarima) (0.5.2)\n",
      "Requirement already satisfied: packaging>=21.3 in c:\\users\\prave\\anaconda3\\lib\\site-packages (from statsmodels>=0.13.2->pmdarima) (21.3)\n",
      "Requirement already satisfied: pyparsing!=3.0.5,>=2.0.2 in c:\\users\\prave\\anaconda3\\lib\\site-packages (from packaging>=21.3->statsmodels>=0.13.2->pmdarima) (3.0.9)\n",
      "Requirement already satisfied: six in c:\\users\\prave\\anaconda3\\lib\\site-packages (from patsy>=0.5.2->statsmodels>=0.13.2->pmdarima) (1.16.0)\n"
     ]
    }
   ],
   "source": [
    "! pip install pmdarima"
   ]
  },
  {
   "cell_type": "markdown",
   "id": "fbb06654",
   "metadata": {},
   "source": [
    "## Auto ARIMA"
   ]
  },
  {
   "cell_type": "markdown",
   "id": "535f4390",
   "metadata": {},
   "source": [
    "* The auto - ARIMA process seeks to identify the most optimal parameters for an ARIMA model , settling on a single fitted ARIMA model . \n",
    "* Auto - ARIMA works by conducting differencing tests to determine the order of differencing , d , and then fitting models within ranges of defined start_p , max_p , start_q , max_q ranges . \n",
    "* If the seasonal optional is enabled , auto - ARIMA also seeks to identify the optimal P D , and Q hyper- parameters . \n",
    "* In order to find the best model , auto - ARIMA optimizes for a given information_criterion , one of Akaike Information Criterion ( AIC ) , Corrected Akaike Information Criterion ( AICC ) , Bayesian Information Criterion ( BIC ) , Hannan - Quinn Information Criterion ( HQIC ) , or \" out of bag \" ( OOB ) for validation scoring ."
   ]
  },
  {
   "cell_type": "code",
   "execution_count": 58,
   "id": "38f819e3",
   "metadata": {},
   "outputs": [
    {
     "name": "stdout",
     "output_type": "stream",
     "text": [
      "Performing stepwise search to minimize bic\n",
      " ARIMA(1,1,1)(1,0,1)[7] intercept   : BIC=2617.743, Time=0.53 sec\n",
      " ARIMA(0,1,0)(0,0,0)[7] intercept   : BIC=3468.933, Time=0.02 sec\n",
      " ARIMA(1,1,0)(1,0,0)[7] intercept   : BIC=inf, Time=0.20 sec\n",
      " ARIMA(0,1,1)(0,0,1)[7] intercept   : BIC=inf, Time=0.22 sec\n",
      " ARIMA(0,1,0)(0,0,0)[7]             : BIC=3530.927, Time=0.01 sec\n",
      " ARIMA(1,1,1)(0,0,1)[7] intercept   : BIC=2647.813, Time=0.34 sec\n",
      " ARIMA(1,1,1)(1,0,0)[7] intercept   : BIC=2635.031, Time=0.49 sec\n",
      " ARIMA(1,1,1)(0,0,0)[7] intercept   : BIC=2675.051, Time=0.28 sec\n",
      " ARIMA(0,1,1)(1,0,1)[7] intercept   : BIC=inf, Time=0.27 sec\n",
      " ARIMA(1,1,0)(1,0,1)[7] intercept   : BIC=2629.307, Time=0.31 sec\n",
      " ARIMA(2,1,1)(1,0,1)[7] intercept   : BIC=2626.575, Time=0.56 sec\n",
      " ARIMA(1,1,2)(1,0,1)[7] intercept   : BIC=2623.222, Time=0.48 sec\n",
      " ARIMA(0,1,0)(1,0,1)[7] intercept   : BIC=2997.646, Time=0.30 sec\n",
      " ARIMA(0,1,2)(1,0,1)[7] intercept   : BIC=inf, Time=0.64 sec\n",
      " ARIMA(2,1,0)(1,0,1)[7] intercept   : BIC=2624.677, Time=0.44 sec\n",
      " ARIMA(2,1,2)(1,0,1)[7] intercept   : BIC=inf, Time=0.68 sec\n",
      " ARIMA(1,1,1)(1,0,1)[7]             : BIC=2620.153, Time=0.49 sec\n",
      "\n",
      "Best model:  ARIMA(1,1,1)(1,0,1)[7] intercept\n",
      "Total fit time: 6.261 seconds\n"
     ]
    }
   ],
   "source": [
    "from pmdarima.arima import auto_arima\n",
    "\n",
    "arima_model = auto_arima ( train.Confirmed , start_p = 1 , d = 1 , start_q = 1 , max_p = 5 , max_d = 2 , max_q = 5 , start_P = 1 , D = None , start_Q = 1, max_P = 1 , max_D = 1 , max_Q= 1 , max_order = 5 , m= 7 , seasonal = True , stationary = False , information_criterion = 'bic' ,alpha = 0.05 , trace = True )\n"
   ]
  },
  {
   "cell_type": "code",
   "execution_count": 59,
   "id": "596ba1df",
   "metadata": {},
   "outputs": [
    {
     "data": {
      "text/html": [
       "<table class=\"simpletable\">\n",
       "<caption>SARIMAX Results</caption>\n",
       "<tr>\n",
       "  <th>Dep. Variable:</th>                 <td>y</td>               <th>  No. Observations:  </th>    <td>170</td>   \n",
       "</tr>\n",
       "<tr>\n",
       "  <th>Model:</th>           <td>SARIMAX(1, 1, 1)x(1, 0, 1, 7)</td> <th>  Log Likelihood     </th> <td>-1293.482</td>\n",
       "</tr>\n",
       "<tr>\n",
       "  <th>Date:</th>                  <td>Wed, 19 Jul 2023</td>        <th>  AIC                </th> <td>2598.964</td> \n",
       "</tr>\n",
       "<tr>\n",
       "  <th>Time:</th>                      <td>20:11:34</td>            <th>  BIC                </th> <td>2617.743</td> \n",
       "</tr>\n",
       "<tr>\n",
       "  <th>Sample:</th>                   <td>01-22-2020</td>           <th>  HQIC               </th> <td>2606.585</td> \n",
       "</tr>\n",
       "<tr>\n",
       "  <th></th>                         <td>- 07-09-2020</td>          <th>                     </th>     <td> </td>    \n",
       "</tr>\n",
       "<tr>\n",
       "  <th>Covariance Type:</th>              <td>opg</td>              <th>                     </th>     <td> </td>    \n",
       "</tr>\n",
       "</table>\n",
       "<table class=\"simpletable\">\n",
       "<tr>\n",
       "      <td></td>         <th>coef</th>     <th>std err</th>      <th>z</th>      <th>P>|z|</th>  <th>[0.025</th>    <th>0.975]</th>  \n",
       "</tr>\n",
       "<tr>\n",
       "  <th>intercept</th> <td>   33.4521</td> <td>   19.011</td> <td>    1.760</td> <td> 0.078</td> <td>   -3.809</td> <td>   70.713</td>\n",
       "</tr>\n",
       "<tr>\n",
       "  <th>ar.L1</th>     <td>    1.0000</td> <td>    0.007</td> <td>  135.696</td> <td> 0.000</td> <td>    0.986</td> <td>    1.014</td>\n",
       "</tr>\n",
       "<tr>\n",
       "  <th>ma.L1</th>     <td>   -0.4083</td> <td>    0.054</td> <td>   -7.585</td> <td> 0.000</td> <td>   -0.514</td> <td>   -0.303</td>\n",
       "</tr>\n",
       "<tr>\n",
       "  <th>ar.S.L7</th>   <td>    0.9529</td> <td>    0.059</td> <td>   16.269</td> <td> 0.000</td> <td>    0.838</td> <td>    1.068</td>\n",
       "</tr>\n",
       "<tr>\n",
       "  <th>ma.S.L7</th>   <td>   -0.5337</td> <td>    0.100</td> <td>   -5.323</td> <td> 0.000</td> <td>   -0.730</td> <td>   -0.337</td>\n",
       "</tr>\n",
       "<tr>\n",
       "  <th>sigma2</th>    <td> 2.454e+05</td> <td>  2.1e+04</td> <td>   11.701</td> <td> 0.000</td> <td> 2.04e+05</td> <td> 2.87e+05</td>\n",
       "</tr>\n",
       "</table>\n",
       "<table class=\"simpletable\">\n",
       "<tr>\n",
       "  <th>Ljung-Box (L1) (Q):</th>     <td>0.24</td>  <th>  Jarque-Bera (JB):  </th> <td>39.72</td>\n",
       "</tr>\n",
       "<tr>\n",
       "  <th>Prob(Q):</th>                <td>0.62</td>  <th>  Prob(JB):          </th> <td>0.00</td> \n",
       "</tr>\n",
       "<tr>\n",
       "  <th>Heteroskedasticity (H):</th> <td>65.23</td> <th>  Skew:              </th> <td>0.32</td> \n",
       "</tr>\n",
       "<tr>\n",
       "  <th>Prob(H) (two-sided):</th>    <td>0.00</td>  <th>  Kurtosis:          </th> <td>5.29</td> \n",
       "</tr>\n",
       "</table><br/><br/>Warnings:<br/>[1] Covariance matrix calculated using the outer product of gradients (complex-step)."
      ],
      "text/plain": [
       "<class 'statsmodels.iolib.summary.Summary'>\n",
       "\"\"\"\n",
       "                                     SARIMAX Results                                     \n",
       "=========================================================================================\n",
       "Dep. Variable:                                 y   No. Observations:                  170\n",
       "Model:             SARIMAX(1, 1, 1)x(1, 0, 1, 7)   Log Likelihood               -1293.482\n",
       "Date:                           Wed, 19 Jul 2023   AIC                           2598.964\n",
       "Time:                                   20:11:34   BIC                           2617.743\n",
       "Sample:                               01-22-2020   HQIC                          2606.585\n",
       "                                    - 07-09-2020                                         \n",
       "Covariance Type:                             opg                                         \n",
       "==============================================================================\n",
       "                 coef    std err          z      P>|z|      [0.025      0.975]\n",
       "------------------------------------------------------------------------------\n",
       "intercept     33.4521     19.011      1.760      0.078      -3.809      70.713\n",
       "ar.L1          1.0000      0.007    135.696      0.000       0.986       1.014\n",
       "ma.L1         -0.4083      0.054     -7.585      0.000      -0.514      -0.303\n",
       "ar.S.L7        0.9529      0.059     16.269      0.000       0.838       1.068\n",
       "ma.S.L7       -0.5337      0.100     -5.323      0.000      -0.730      -0.337\n",
       "sigma2      2.454e+05    2.1e+04     11.701      0.000    2.04e+05    2.87e+05\n",
       "===================================================================================\n",
       "Ljung-Box (L1) (Q):                   0.24   Jarque-Bera (JB):                39.72\n",
       "Prob(Q):                              0.62   Prob(JB):                         0.00\n",
       "Heteroskedasticity (H):              65.23   Skew:                             0.32\n",
       "Prob(H) (two-sided):                  0.00   Kurtosis:                         5.29\n",
       "===================================================================================\n",
       "\n",
       "Warnings:\n",
       "[1] Covariance matrix calculated using the outer product of gradients (complex-step).\n",
       "\"\"\""
      ]
     },
     "execution_count": 59,
     "metadata": {},
     "output_type": "execute_result"
    }
   ],
   "source": [
    "arima_model.summary()"
   ]
  },
  {
   "cell_type": "code",
   "execution_count": 60,
   "id": "d380c861",
   "metadata": {},
   "outputs": [],
   "source": [
    "test['AutoArima'] = forecast"
   ]
  },
  {
   "cell_type": "code",
   "execution_count": 61,
   "id": "9fa2726b",
   "metadata": {},
   "outputs": [
    {
     "data": {
      "image/png": "[encoded data removed]",
      "text/plain": [
       "<Figure size 640x480 with 1 Axes>"
      ]
     },
     "metadata": {},
     "output_type": "display_data"
    }
   ],
   "source": [
    "# Plot actual and predicted data\n",
    "plt.figure ( num =None , figsize = ( 8 , 6 ) , dpi = 80 )\n",
    "plt.plot ( test.Confirmed , label = \" Test Data \" )\n",
    "plt.plot ( test.AutoArima , 'r--' , label = \" Predicted Data \" )\n",
    "plt.legend ( )\n",
    "plt.title ( ' COVID - 19 Actual and Predicted Confirmed cases using Auto ARIMA ' )\n",
    "plt.show ( )"
   ]
  },
  {
   "cell_type": "code",
   "execution_count": 62,
   "id": "821cde9c",
   "metadata": {},
   "outputs": [
    {
     "data": {
      "image/png": "[encoded data removed]",
      "text/plain": [
       "<Figure size 640x480 with 1 Axes>"
      ]
     },
     "metadata": {},
     "output_type": "display_data"
    }
   ],
   "source": [
    "# Scatter plot the data to get an intiution of the correlation to be used\n",
    "import matplotlib.pyplot as plt\n",
    " \n",
    "    \n",
    "plt.scatter ( train.Confirmed ,train.Recovered )\n",
    "\n",
    "plt.show ( )\n"
   ]
  },
  {
   "cell_type": "markdown",
   "id": "282aa41d",
   "metadata": {},
   "source": [
    "* According to the scatter plot , the Confirmed cases and Recovered cases look linearly related to the Fatalities . Hence , we can use Pearson's correlation .\n",
    "* However , if we feel that a scatterplot is visually indicating a \" might be monotonic , might be linear relationship , our best bet would be to apply Spearman and not Pearson .\n",
    "* No harm would be done by switching to Spearman even if the data turned out to be perfectly linear .\n",
    "* But , if it's not exactly linear and we use. Pearson's coefficient then we'll miss out on the information that Spearman could capture ."
   ]
  },
  {
   "cell_type": "code",
   "execution_count": 63,
   "id": "d8fa3d2e",
   "metadata": {},
   "outputs": [],
   "source": [
    "from scipy.stats import pearsonr"
   ]
  },
  {
   "cell_type": "code",
   "execution_count": 64,
   "id": "34818d52",
   "metadata": {},
   "outputs": [
    {
     "name": "stdout",
     "output_type": "stream",
     "text": [
      "0.9955822343844386 1.5610343732858996e-174\n"
     ]
    }
   ],
   "source": [
    "corr , p = pearsonr (train.Recovered,train.Confirmed)\n",
    "print (corr , p)"
   ]
  },
  {
   "cell_type": "markdown",
   "id": "3693684b",
   "metadata": {},
   "source": [
    "* We can see that the variables are positively correlated . This suggests a high level of correlation , e.g. a value above 0.5 and close to 1.0 .\n",
    "* Although Pearson's correlation has given enough evidence to use the Deaths variable and Recovered variable as exogenous variables . Let's still see how Spearman's correlation looks like ."
   ]
  },
  {
   "cell_type": "code",
   "execution_count": 65,
   "id": "6f02e0d8",
   "metadata": {},
   "outputs": [
    {
     "name": "stdout",
     "output_type": "stream",
     "text": [
      "                               SARIMAX Results                                \n",
      "==============================================================================\n",
      "Dep. Variable:              Confirmed   No. Observations:                  170\n",
      "Model:               SARIMAX(1, 1, 1)   Log Likelihood               -1329.492\n",
      "Date:                Wed, 19 Jul 2023   AIC                           2666.984\n",
      "Time:                        20:11:35   BIC                           2679.504\n",
      "Sample:                    01-22-2020   HQIC                          2672.065\n",
      "                         - 07-09-2020                                         \n",
      "Covariance Type:                  opg                                         \n",
      "==============================================================================\n",
      "                 coef    std err          z      P>|z|      [0.025      0.975]\n",
      "------------------------------------------------------------------------------\n",
      "Recovered      0.0531      0.018      2.876      0.004       0.017       0.089\n",
      "ar.L1          1.0000      0.004    239.655      0.000       0.992       1.008\n",
      "ma.L1          0.1142      0.048      2.394      0.017       0.021       0.208\n",
      "sigma2      3.979e+05   2.85e+04     13.966      0.000    3.42e+05    4.54e+05\n",
      "===================================================================================\n",
      "Ljung-Box (L1) (Q):                   0.62   Jarque-Bera (JB):                76.57\n",
      "Prob(Q):                              0.43   Prob(JB):                         0.00\n",
      "Heteroskedasticity (H):           28058.07   Skew:                             0.22\n",
      "Prob(H) (two-sided):                  0.00   Kurtosis:                         6.27\n",
      "===================================================================================\n",
      "\n",
      "Warnings:\n",
      "[1] Covariance matrix calculated using the outer product of gradients (complex-step).\n"
     ]
    }
   ],
   "source": [
    "# Fit the SARIMA model\n",
    "from statsmodels.tsa.statespace.sarimax import SARIMAX\n",
    "model = SARIMAX ( train.Confirmed , order = ( 1,1,1 ) , seasonal_order = ( 0,0,0,0 ) , exog = train . Recovered )\n",
    "model_fit = model.fit ( )\n",
    "# summary of fit model\n",
    "        \n",
    "print ( model_fit.summary ( ) )"
   ]
  },
  {
   "cell_type": "code",
   "execution_count": 66,
   "id": "3910e97f",
   "metadata": {},
   "outputs": [
    {
     "data": {
      "text/plain": [
       "2020-07-10     495513.0\n",
       "2020-07-11     515386.0\n",
       "2020-07-12     534618.0\n",
       "2020-07-13     553471.0\n",
       "2020-07-14     571460.0\n",
       "                ...    \n",
       "2020-09-17    4025079.0\n",
       "2020-09-18    4112551.0\n",
       "2020-09-19    4208431.0\n",
       "2020-09-20    4303043.0\n",
       "2020-09-21    4396399.0\n",
       "Name: Recovered1, Length: 74, dtype: float64"
      ]
     },
     "execution_count": 66,
     "metadata": {},
     "output_type": "execute_result"
    }
   ],
   "source": [
    "# Use the previous value of recovered cases to model the confirmed cases of next day\n",
    "test ['Recovered1'] = test.Recovered.shift(1)\n",
    "test.Recovered1[0]= train.Recovered [-1]\n",
    "test.Recovered1   "
   ]
  },
  {
   "cell_type": "code",
   "execution_count": 67,
   "id": "0cde788a",
   "metadata": {},
   "outputs": [
    {
     "data": {
      "text/plain": [
       "2020-07-10    8.194560e+05\n",
       "2020-07-11    8.461645e+05\n",
       "2020-07-12    8.728391e+05\n",
       "2020-07-13    8.994935e+05\n",
       "2020-07-14    9.261021e+05\n",
       "                  ...     \n",
       "2020-09-17    2.776883e+06\n",
       "2020-09-18    2.807179e+06\n",
       "2020-09-19    2.837921e+06\n",
       "2020-09-20    2.868595e+06\n",
       "2020-09-21    2.899204e+06\n",
       "Freq: D, Name: predicted_mean, Length: 74, dtype: float64"
      ]
     },
     "execution_count": 67,
     "metadata": {},
     "output_type": "execute_result"
    }
   ],
   "source": [
    "# Perform out - of - sample predictions for the entire test data\n",
    "import numpy as np\n",
    "forecast=model_fit.predict ( start = ( train.Confirmed.shape [ 0 ] ) , end= ( train.Deaths.shape [ 0 ] + len ( test ) -1 ) , exog = test.Recovered1)\n",
    "forecast"
   ]
  },
  {
   "cell_type": "code",
   "execution_count": 68,
   "id": "3a3796c1",
   "metadata": {},
   "outputs": [
    {
     "name": "stdout",
     "output_type": "stream",
     "text": [
      "1255369.2878335803\n"
     ]
    }
   ],
   "source": [
    "# calculate the error between actual and predicted values\n",
    "error = sqrt  ( metrics.mean_squared_error ( test.Confirmed , forecast ) )\n",
    "print ( error )"
   ]
  },
  {
   "cell_type": "code",
   "execution_count": 69,
   "id": "e7ed0143",
   "metadata": {},
   "outputs": [],
   "source": [
    "test ['SARIMAX'] = forecast"
   ]
  },
  {
   "cell_type": "code",
   "execution_count": 70,
   "id": "bbdbc536",
   "metadata": {},
   "outputs": [
    {
     "data": {
      "image/png": "[encoded data removed]",
      "text/plain": [
       "<Figure size 640x480 with 1 Axes>"
      ]
     },
     "metadata": {},
     "output_type": "display_data"
    }
   ],
   "source": [
    "# Plot actual and predicted data\n",
    "plt.figure ( num = None , figsize = ( 8 , 6 ) , dpi = 80 )\n",
    "plt.plot ( test.Confirmed , label = \" Test Data \" )\n",
    "plt.plot ( test.SARIMAX , '--' , label = \" Predicted Data \" )\n",
    "plt.legend ( )\n",
    "plt.title ( ' COVID - 19 Actual and Predicted Confirmed cases using SARIMAX model ' )\n",
    "plt.show ( )\n",
    "                "
   ]
  },
  {
   "cell_type": "markdown",
   "id": "2d37c7e4",
   "metadata": {},
   "source": [
    "Let's try SARIMAX model using walk - forward validation ."
   ]
  },
  {
   "cell_type": "code",
   "execution_count": 71,
   "id": "2b3bb55d",
   "metadata": {},
   "outputs": [],
   "source": [
    " # Perform out - of - sample predictions using walk forward validation\n",
    "pred_ARIMA = [ ]\n",
    "X = train.Confirmed.values\n",
    "y = train.Recovered.values\n",
    " # For every element in test , make a prediction , append the test point to training set and Loop ahead\n",
    "for index , i in test.iterrows( ) :\n",
    "    model_fit = model = SARIMAX ( X , order = ( 1,1,1 ) , seasonal_order = ( 0,0,0,0 ) , exog = y).fit()\n",
    "    pred=model_fit.forecast ( exog = np.asarray( y [ -1 ] ).reshape(1,1))\n",
    "    pred_ARIMA.append(pred)\n",
    "\n",
    "    X = np.append ( X , i.Confirmed )\n",
    "    y = np.append ( y , i.Recovered )"
   ]
  },
  {
   "cell_type": "markdown",
   "id": "dfb8c6b1",
   "metadata": {},
   "source": [
    "Let's try applying triple exponential smoothing on our data ."
   ]
  },
  {
   "cell_type": "code",
   "execution_count": 72,
   "id": "06888cdd",
   "metadata": {},
   "outputs": [],
   "source": [
    "#Using statsmodel package for exponential smoothing\n",
    "from statsmodels.tsa.holtwinters import ExponentialSmoothing\n",
    "model = ExponentialSmoothing ( train.Confirmed.values , trend =\"additive\", damped = True )\n",
    "model_fit = model.fit()"
   ]
  },
  {
   "cell_type": "markdown",
   "id": "ccca49db",
   "metadata": {},
   "source": [
    "Here we are using level smoothing and trend smoothing , so this becomes a double exponential smoothing model , if we include the seasonal parameter as well , it will become a triple exponential smoothing model ."
   ]
  },
  {
   "cell_type": "code",
   "execution_count": 73,
   "id": "26ec3664",
   "metadata": {},
   "outputs": [],
   "source": [
    "# Predict for future values using exponential smoothing parameters\n",
    "predictions_ = model_fit.predict(len(train),len(train)+len(test)-1)"
   ]
  },
  {
   "cell_type": "code",
   "execution_count": 74,
   "id": "41c4d0e5",
   "metadata": {},
   "outputs": [
    {
     "name": "stdout",
     "output_type": "stream",
     "text": [
      "1598304.6630205568\n"
     ]
    },
    {
     "data": {
      "image/png": "[encoded data removed]",
      "text/plain": [
       "<Figure size 640x480 with 1 Axes>"
      ]
     },
     "metadata": {},
     "output_type": "display_data"
    }
   ],
   "source": [
    "# Add a column in test with prediction by DES model\n",
    "test ['pred_ES'] = predictions_\n",
    "error = sqrt ( metrics.mean_squared_error ( test.Confirmed , test.pred_ES ) )\n",
    "print ( error )\n",
    "# Plot actual and predicted data\n",
    "plt.figure ( num = None , figsize = ( 8 , 6 ) , dpi = 80 )\n",
    "plt.plot ( test.Confirmed , label = \" Test Data \" )\n",
    "plt.plot ( test.pred_ES , 'r--' , label = \" Predicted Data \" )\n",
    "plt.legend ( )\n",
    "plt.title ( ' COVID - 19 Actual and Predicted Confirmed cases using Double Exponential Smoothing ' )\n",
    "plt.show ( )"
   ]
  },
  {
   "cell_type": "markdown",
   "id": "93a1073a",
   "metadata": {},
   "source": [
    "Let's also try exponential smoothing with walk - forward validation ."
   ]
  },
  {
   "cell_type": "code",
   "execution_count": 75,
   "id": "b68a21da",
   "metadata": {},
   "outputs": [
    {
     "name": "stdout",
     "output_type": "stream",
     "text": [
      "820026.3085604989\n",
      "847755.0683393785\n",
      "877820.0604224409\n",
      "906842.3400121996\n",
      "934966.4089370131\n",
      "965297.8952460976\n",
      "1001159.3096527712\n",
      "1038435.1106314443\n",
      "1073987.0574256391\n",
      "1116037.8061580951\n",
      "1158213.2775902962\n",
      "1192152.1830324924\n",
      "1230412.5956170824\n",
      "1283940.647807442\n",
      "1336904.417345993\n",
      "1385469.689571479\n",
      "1433758.0229001855\n",
      "1485070.3704127672\n",
      "1524168.9641208765\n",
      "1582612.738107746\n",
      "1631800.850194389\n",
      "1686954.1439567208\n",
      "1756497.77762443\n",
      "1805041.268848272\n",
      "1856128.720936444\n",
      "1907273.543914061\n",
      "1960500.454958211\n",
      "2020195.8528915052\n",
      "2088905.6629832666\n",
      "2149571.060013729\n",
      "2217087.004848571\n",
      "2276558.754307883\n",
      "2321849.1527544535\n",
      "2389661.643727738\n",
      "2462903.4054236836\n",
      "2525156.6198864155\n",
      "2589986.8134226184\n",
      "2653346.006489927\n",
      "2704881.2538158474\n",
      "2757153.4184434493\n",
      "2831018.154943062\n",
      "2905862.407131772\n",
      "2974065.7953234687\n",
      "3044853.730756333\n",
      "3113493.4209865816\n",
      "3167248.636956286\n",
      "3227651.773997251\n",
      "3281245.312386469\n",
      "3393943.77935989\n",
      "3464619.090333835\n",
      "3539764.026574117\n",
      "3620243.313489923\n",
      "3698831.422118304\n",
      "3761752.9745677756\n",
      "3845527.0684614987\n",
      "3935110.529059238\n",
      "4019070.407307379\n",
      "4108117.3722159886\n",
      "4202821.192617333\n",
      "4294298.931064105\n",
      "4357622.040275409\n",
      "4456065.777213095\n",
      "4558806.732098957\n",
      "4657448.347933281\n",
      "4756142.939646787\n",
      "4848115.316614139\n",
      "4937869.352263689\n",
      "5014559.040435873\n",
      "5108509.261738155\n",
      "5213460.14941927\n",
      "5310033.907774383\n",
      "5400832.407974225\n",
      "5492305.967234801\n",
      "5574631.829066339\n"
     ]
    }
   ],
   "source": [
    "# Perform out - of - sample predictions using walk forward validation\n",
    "pred_WF = [ ]\n",
    "X = train.Confirmed.values\n",
    "# For every element in test , make a prediction , append the test point to training set and Loop ahead\n",
    "for index , i in test.iterrows ( ) :\n",
    "    model_fit = ExponentialSmoothing ( X , trend = \"additive\" , damped = True ) .fit ( )\n",
    "    pred=model_fit.predict ( )\n",
    "    print(pred[0])\n",
    "    pred_WF.append(pred[0])\n",
    "    X = np.append( X , i.Confirmed )"
   ]
  },
  {
   "cell_type": "code",
   "execution_count": 76,
   "id": "5e6a20a0",
   "metadata": {},
   "outputs": [
    {
     "name": "stdout",
     "output_type": "stream",
     "text": [
      "11761.787233346893\n"
     ]
    },
    {
     "data": {
      "image/png": "[encoded data removed]",
      "text/plain": [
       "<Figure size 640x480 with 1 Axes>"
      ]
     },
     "metadata": {},
     "output_type": "display_data"
    }
   ],
   "source": [
    "# Add a column in test with prediction by SARIMA model\n",
    "test ['pred_WF'] = pred_WF\n",
    "error = sqrt ( metrics.mean_squared_error ( test.Confirmed , test.pred_WF ) )\n",
    "print ( error )\n",
    "# Plot actual and predicted data\n",
    "plt.figure ( num = None , figsize = ( 8 , 6 ) , dpi = 80 )\n",
    "plt.plot ( test.Confirmed , label = \" Test Data \" )\n",
    "plt.plot ( test.pred_WF , 'r--' , label = \" Predicted Data \" )\n",
    "plt.legend ( )\n",
    "plt.title ( ' COVID - 19 Actual and Predicted Confirmed cases using DES model and walk forward validation ' )\n",
    "plt.show ( )"
   ]
  },
  {
   "cell_type": "markdown",
   "id": "3fe3db74",
   "metadata": {},
   "source": [
    "* So far , we contrasted the performance of statistical models with a normal train test - split which aims to predict many steps ahead in future , in our case , 94 steps ahead , after being trained once , against one step ahead walk - forward validation , where we predict one step ahead at a time , and eventually cover the entire test dataset .\n",
    "\n",
    "* We could reproduce the same result each time , i.e. using walk - forward validation , our model was greatly helped and was able to perform better .\n",
    "\n",
    "* Then,we done statistical models for time - series analysis and forecasting , we used highly interpretable tests , plots and models to understand and model various dimensions of the data . Moreover , traditional statistical methods rely on linear relationships to find structure in the data and work well on univariate data."
   ]
  },
  {
   "cell_type": "markdown",
   "id": "074439d4",
   "metadata": {},
   "source": [
    "## Conclusion"
   ]
  },
  {
   "cell_type": "markdown",
   "id": "8e64ca75",
   "metadata": {},
   "source": [
    "• Confirmed , recovered and fatalities seem to be linearly correlated .\n",
    "\n",
    "• Adding exogenous variables for forecasting of confirmed cases along with walk forward validation gave a more appropriate forecast .\n",
    "\n",
    "• Traditional statistical methods rely on linear relationships to find structure in the data and work well on univariate data"
   ]
  },
  {
   "cell_type": "code",
   "execution_count": null,
   "id": "e7fbb560",
   "metadata": {},
   "outputs": [],
   "source": []
  }
 ],
 "metadata": {
  "kernelspec": {
   "display_name": "Python 3 (ipykernel)",
   "language": "python",
   "name": "python3"
  },
  "language_info": {
   "codemirror_mode": {
    "name": "ipython",
    "version": 3
   },
   "file_extension": ".py",
   "mimetype": "text/x-python",
   "name": "python",
   "nbconvert_exporter": "python",
   "pygments_lexer": "ipython3",
   "version": "3.9.13"
  }
 },
 "nbformat": 4,
 "nbformat_minor": 5
}
